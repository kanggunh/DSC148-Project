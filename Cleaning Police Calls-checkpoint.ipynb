{
 "cells": [
  {
   "cell_type": "code",
   "execution_count": 1,
   "id": "c5895d5b",
   "metadata": {},
   "outputs": [],
   "source": [
    "import pandas as pd\n",
    "from datetime import datetime\n",
    "from datetime import time"
   ]
  },
  {
   "cell_type": "code",
   "execution_count": 2,
   "id": "ac2b306f",
   "metadata": {
    "scrolled": true
   },
   "outputs": [],
   "source": [
    "# reading all call records\n",
    "calls_22 = pd.read_csv(\"data/policecalls2022.csv\")\n",
    "calls_23 = pd.read_csv(\"data/policecalls2023.csv\")\n",
    "calls_24 = pd.read_csv(\"data/policecalls2024.csv\")"
   ]
  },
  {
   "cell_type": "code",
   "execution_count": 3,
   "id": "b8dc4fe6",
   "metadata": {},
   "outputs": [],
   "source": [
    "calls_data = pd.concat([calls_22, calls_23, calls_24])"
   ]
  },
  {
   "cell_type": "markdown",
   "id": "580b44ca",
   "metadata": {},
   "source": [
    "## Data Cleaning"
   ]
  },
  {
   "cell_type": "code",
   "execution_count": 4,
   "id": "c50f4cba",
   "metadata": {
    "scrolled": true
   },
   "outputs": [
    {
     "data": {
      "text/plain": [
       "CDTS                object\n",
       "EID                  int64\n",
       "START_DATE          object\n",
       "CALL_NUMBER         object\n",
       "PRIORITY             int64\n",
       "REPORT_DATE         object\n",
       "OFFENSE_DATE        object\n",
       "OFFENSE_TIME        object\n",
       "CALLTYPE_CODE       object\n",
       "CALL_TYPE           object\n",
       "FINAL_DISPO_CODE    object\n",
       "FINAL_DISPO         object\n",
       "ADDRESS             object\n",
       "CITY                object\n",
       "STATE               object\n",
       "dtype: object"
      ]
     },
     "execution_count": 4,
     "metadata": {},
     "output_type": "execute_result"
    }
   ],
   "source": [
    "calls_data.dtypes"
   ]
  },
  {
   "cell_type": "code",
   "execution_count": 5,
   "id": "acbf556f",
   "metadata": {},
   "outputs": [],
   "source": [
    "# let us first make column names lowercase\n",
    "calls_data.columns = calls_data.columns.str.lower()"
   ]
  },
  {
   "cell_type": "code",
   "execution_count": 6,
   "id": "91ec8a3d",
   "metadata": {
    "scrolled": true
   },
   "outputs": [],
   "source": [
    "# EID is a identification so let us make it an object\n",
    "calls_data['eid'] = calls_data['eid'].astype(str)"
   ]
  },
  {
   "cell_type": "code",
   "execution_count": 7,
   "id": "b2c33fe9",
   "metadata": {},
   "outputs": [
    {
     "data": {
      "text/plain": [
       "1195      439816\n",
       "415       370679\n",
       "WELCK     324931\n",
       "1033A     279998\n",
       "22500     199219\n",
       "           ...  \n",
       "602.11         7\n",
       "10751          7\n",
       "308            7\n",
       "BARCK          7\n",
       "CURF           7\n",
       "Name: calltype_code, Length: 212, dtype: int64"
      ]
     },
     "execution_count": 7,
     "metadata": {},
     "output_type": "execute_result"
    }
   ],
   "source": [
    "calls_data.calltype_code.value_counts()"
   ]
  },
  {
   "cell_type": "code",
   "execution_count": 8,
   "id": "f709e07d",
   "metadata": {
    "scrolled": true
   },
   "outputs": [
    {
     "data": {
      "text/plain": [
       "cdts                     0\n",
       "eid                      0\n",
       "start_date               0\n",
       "call_number              0\n",
       "priority                 0\n",
       "report_date              0\n",
       "offense_date             0\n",
       "offense_time             0\n",
       "calltype_code            0\n",
       "call_type                0\n",
       "final_dispo_code         0\n",
       "final_dispo              0\n",
       "address             113995\n",
       "city                     0\n",
       "state                    0\n",
       "dtype: int64"
      ]
     },
     "execution_count": 8,
     "metadata": {},
     "output_type": "execute_result"
    }
   ],
   "source": [
    "# checking for missingness\n",
    "calls_data.isna().sum()\n",
    "\n",
    "# we are only missing addresses in call the df"
   ]
  },
  {
   "cell_type": "code",
   "execution_count": 9,
   "id": "947eb322",
   "metadata": {
    "scrolled": true
   },
   "outputs": [],
   "source": [
    "# date_format = '%m/%d/%Y %I:%M:%S %p'\n",
    "\n",
    "# def to_date(s):\n",
    "#     # change str to datetime type\n",
    "#     return datetime.strptime(s, date_format).date()"
   ]
  },
  {
   "cell_type": "code",
   "execution_count": 10,
   "id": "25a81414",
   "metadata": {},
   "outputs": [],
   "source": [
    "# change all start_date\n",
    "# calls_data['start_date'] = calls_data.start_date.apply(to_date)"
   ]
  },
  {
   "cell_type": "code",
   "execution_count": 11,
   "id": "79a5566e",
   "metadata": {},
   "outputs": [],
   "source": [
    "# # change all report_date\n",
    "# calls_data['report_date'] = calls_data['report_date'].apply(to_date)\n"
   ]
  },
  {
   "cell_type": "code",
   "execution_count": 12,
   "id": "0948b466",
   "metadata": {},
   "outputs": [],
   "source": [
    "# # change all offense_date\n",
    "# calls_data['offense_date'] = calls_data['offense_date'].apply(to_date)"
   ]
  },
  {
   "cell_type": "code",
   "execution_count": 13,
   "id": "28321ef8",
   "metadata": {
    "scrolled": false
   },
   "outputs": [
    {
     "data": {
      "text/plain": [
       "0         02:49:02\n",
       "1         03:05:51\n",
       "2         04:35:25\n",
       "3         03:38:14\n",
       "4         23:25:49\n",
       "            ...   \n",
       "130529    14:08:34\n",
       "130530    14:06:06\n",
       "130531    13:14:37\n",
       "130532    13:53:41\n",
       "130533    14:32:08\n",
       "Name: offense_time, Length: 3998463, dtype: object"
      ]
     },
     "execution_count": 13,
     "metadata": {},
     "output_type": "execute_result"
    }
   ],
   "source": [
    "calls_data['offense_time']"
   ]
  },
  {
   "cell_type": "code",
   "execution_count": 14,
   "id": "c97b092f",
   "metadata": {},
   "outputs": [],
   "source": [
    "to_time = lambda x: time(*map(int, x.split(':')))"
   ]
  },
  {
   "cell_type": "code",
   "execution_count": 15,
   "id": "7977aa41",
   "metadata": {},
   "outputs": [],
   "source": [
    "calls_data['offense_time'] = calls_data['offense_time'].apply(to_time)"
   ]
  },
  {
   "cell_type": "code",
   "execution_count": 16,
   "id": "3a591426",
   "metadata": {},
   "outputs": [],
   "source": [
    "# dropping city and state as they are all San Jose, CA\n",
    "calls_data = calls_data.drop(columns=['city','state'])"
   ]
  },
  {
   "cell_type": "code",
   "execution_count": 17,
   "id": "c963376a",
   "metadata": {},
   "outputs": [
    {
     "data": {
      "text/plain": [
       "3998463"
      ]
     },
     "execution_count": 17,
     "metadata": {},
     "output_type": "execute_result"
    }
   ],
   "source": [
    "calls_data.shape[0]"
   ]
  },
  {
   "cell_type": "code",
   "execution_count": 18,
   "id": "321a854f",
   "metadata": {},
   "outputs": [
    {
     "data": {
      "text/plain": [
       "602431"
      ]
     },
     "execution_count": 18,
     "metadata": {},
     "output_type": "execute_result"
    }
   ],
   "source": [
    "calls_data['cdts'].nunique()"
   ]
  },
  {
   "cell_type": "code",
   "execution_count": 19,
   "id": "0000bfd1",
   "metadata": {},
   "outputs": [
    {
     "data": {
      "text/plain": [
       "590411"
      ]
     },
     "execution_count": 19,
     "metadata": {},
     "output_type": "execute_result"
    }
   ],
   "source": [
    "calls_data['eid'].nunique()"
   ]
  },
  {
   "cell_type": "code",
   "execution_count": 20,
   "id": "48474872",
   "metadata": {},
   "outputs": [
    {
     "data": {
      "text/plain": [
       "591141"
      ]
     },
     "execution_count": 20,
     "metadata": {},
     "output_type": "execute_result"
    }
   ],
   "source": [
    "calls_data['call_number'].nunique()"
   ]
  },
  {
   "cell_type": "code",
   "execution_count": 21,
   "id": "c507c35f",
   "metadata": {
    "scrolled": false
   },
   "outputs": [
    {
     "data": {
      "text/plain": [
       "1195      439816\n",
       "415       370679\n",
       "WELCK     324931\n",
       "1033A     279998\n",
       "22500     199219\n",
       "           ...  \n",
       "602.11         7\n",
       "10751          7\n",
       "308            7\n",
       "BARCK          7\n",
       "CURF           7\n",
       "Name: calltype_code, Length: 212, dtype: int64"
      ]
     },
     "execution_count": 21,
     "metadata": {},
     "output_type": "execute_result"
    }
   ],
   "source": [
    "calls_data['calltype_code'].value_counts()"
   ]
  },
  {
   "cell_type": "code",
   "execution_count": 22,
   "id": "7a8d0ffd",
   "metadata": {},
   "outputs": [],
   "source": [
    "call_types = calls_data['call_type'].value_counts()"
   ]
  },
  {
   "cell_type": "code",
   "execution_count": 23,
   "id": "aadadfd1",
   "metadata": {},
   "outputs": [
    {
     "data": {
      "text/plain": [
       "VEHICLE STOP                   439816\n",
       "DISTURBANCE                    370679\n",
       "WELFARE CHECK                  324931\n",
       "ALARM, AUDIBLE                 279998\n",
       "PARKING VIOLATION              199219\n",
       "                                ...  \n",
       "FEMALE CALLING FOR HELP          3001\n",
       "ELDER/DEPENDENT ADULT ABUSE      2904\n",
       "POSSESSION OF NARCOTICS          2811\n",
       "ILLEGAL WEAPONS                  2808\n",
       "ARSON (447A)                     2757\n",
       "Name: call_type, Length: 93, dtype: int64"
      ]
     },
     "execution_count": 23,
     "metadata": {},
     "output_type": "execute_result"
    }
   ],
   "source": [
    "call_types[call_types > 2500]"
   ]
  },
  {
   "cell_type": "code",
   "execution_count": 24,
   "id": "bbfac755",
   "metadata": {
    "scrolled": true
   },
   "outputs": [],
   "source": [
    "calls_data[\"Timestamp\"] = pd.to_datetime(calls_data[\"cdts\"].str[:14], format='%Y%m%d%H%M%S', errors='coerce')"
   ]
  },
  {
   "cell_type": "markdown",
   "id": "a1ad1b3d",
   "metadata": {},
   "source": [
    "Add timestamp column"
   ]
  },
  {
   "cell_type": "code",
   "execution_count": 25,
   "id": "22b18735",
   "metadata": {},
   "outputs": [
    {
     "data": {
      "text/html": [
       "<div>\n",
       "<style scoped>\n",
       "    .dataframe tbody tr th:only-of-type {\n",
       "        vertical-align: middle;\n",
       "    }\n",
       "\n",
       "    .dataframe tbody tr th {\n",
       "        vertical-align: top;\n",
       "    }\n",
       "\n",
       "    .dataframe thead th {\n",
       "        text-align: right;\n",
       "    }\n",
       "</style>\n",
       "<table border=\"1\" class=\"dataframe\">\n",
       "  <thead>\n",
       "    <tr style=\"text-align: right;\">\n",
       "      <th></th>\n",
       "      <th>cdts</th>\n",
       "      <th>eid</th>\n",
       "      <th>start_date</th>\n",
       "      <th>call_number</th>\n",
       "      <th>priority</th>\n",
       "      <th>report_date</th>\n",
       "      <th>offense_date</th>\n",
       "      <th>offense_time</th>\n",
       "      <th>calltype_code</th>\n",
       "      <th>call_type</th>\n",
       "      <th>final_dispo_code</th>\n",
       "      <th>final_dispo</th>\n",
       "      <th>address</th>\n",
       "      <th>Timestamp</th>\n",
       "    </tr>\n",
       "  </thead>\n",
       "  <tbody>\n",
       "  </tbody>\n",
       "</table>\n",
       "</div>"
      ],
      "text/plain": [
       "Empty DataFrame\n",
       "Columns: [cdts, eid, start_date, call_number, priority, report_date, offense_date, offense_time, calltype_code, call_type, final_dispo_code, final_dispo, address, Timestamp]\n",
       "Index: []"
      ]
     },
     "execution_count": 25,
     "metadata": {},
     "output_type": "execute_result"
    }
   ],
   "source": [
    "different_dates = calls_data[calls_data[\"report_date\"] != calls_data[\"offense_date\"]]\n",
    "different_dates"
   ]
  },
  {
   "cell_type": "markdown",
   "id": "0a306b2c",
   "metadata": {},
   "source": [
    "Every value for report_date and offense_date is same"
   ]
  },
  {
   "cell_type": "markdown",
   "id": "ace53c8a",
   "metadata": {},
   "source": [
    "Remove unnecessary columns: report_date, offense_date, start_date, cdts"
   ]
  },
  {
   "cell_type": "code",
   "execution_count": 30,
   "id": "a8ba6168",
   "metadata": {
    "scrolled": true
   },
   "outputs": [],
   "source": [
    "pp_calls_data = calls_data.drop(columns=['eid',\n",
    "                                     'call_number',\n",
    "                                     'report_date', \n",
    "                                     'offense_date', \n",
    "                                     'start_date', \n",
    "                                     'cdts'])"
   ]
  },
  {
   "cell_type": "code",
   "execution_count": 39,
   "id": "74fe2227",
   "metadata": {
    "scrolled": false
   },
   "outputs": [
    {
     "data": {
      "text/plain": [
       "priority                     int64\n",
       "offense_time                object\n",
       "calltype_code               object\n",
       "call_type                   object\n",
       "final_dispo_code            object\n",
       "final_dispo                 object\n",
       "address                     object\n",
       "Timestamp           datetime64[ns]\n",
       "dtype: object"
      ]
     },
     "execution_count": 39,
     "metadata": {},
     "output_type": "execute_result"
    }
   ],
   "source": [
    "pp_calls_data.dtypes"
   ]
  },
  {
   "cell_type": "code",
   "execution_count": 36,
   "id": "9afdbada",
   "metadata": {},
   "outputs": [],
   "source": [
    "pp_calls_data.to_csv('police_calls.csv', index=False)"
   ]
  },
  {
   "cell_type": "code",
   "execution_count": null,
   "id": "e7df82ca",
   "metadata": {},
   "outputs": [],
   "source": []
  }
 ],
 "metadata": {
  "kernelspec": {
   "display_name": "Python 3 (ipykernel)",
   "language": "python",
   "name": "python3"
  },
  "language_info": {
   "codemirror_mode": {
    "name": "ipython",
    "version": 3
   },
   "file_extension": ".py",
   "mimetype": "text/x-python",
   "name": "python",
   "nbconvert_exporter": "python",
   "pygments_lexer": "ipython3",
   "version": "3.10.9"
  }
 },
 "nbformat": 4,
 "nbformat_minor": 5
}
