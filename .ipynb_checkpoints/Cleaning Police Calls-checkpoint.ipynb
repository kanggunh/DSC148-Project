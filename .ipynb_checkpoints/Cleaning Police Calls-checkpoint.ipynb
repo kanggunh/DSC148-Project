{
 "cells": [
  {
   "cell_type": "code",
   "execution_count": 1,
   "id": "c5895d5b",
   "metadata": {},
   "outputs": [],
   "source": [
    "import pandas as pd\n",
    "from datetime import datetime\n",
    "from datetime import time"
   ]
  },
  {
   "cell_type": "code",
   "execution_count": 2,
   "id": "ac2b306f",
   "metadata": {
    "scrolled": true
   },
   "outputs": [],
   "source": [
    "# reading all call records\n",
    "calls_22 = pd.read_csv(\"data/policecalls2022.csv\")\n",
    "calls_23 = pd.read_csv(\"data/policecalls2023.csv\")\n",
    "calls_24 = pd.read_csv(\"data/policecalls2024.csv\")\n",
    "\n",
    "# reading all weather records\n",
    "weather_22 = pd.read_csv(\"data/san jose weather 2022.csv\")\n",
    "weather_23 = pd.read_csv(\"data/san jose weather 2023.csv\")\n",
    "weather_24 = pd.read_csv(\"data/san jose weather 2024.csv\")"
   ]
  },
  {
   "cell_type": "markdown",
   "id": "580b44ca",
   "metadata": {},
   "source": [
    "## Data Cleaning"
   ]
  },
  {
   "cell_type": "code",
   "execution_count": 3,
   "id": "c50f4cba",
   "metadata": {},
   "outputs": [
    {
     "data": {
      "text/plain": [
       "CDTS                object\n",
       "EID                  int64\n",
       "START_DATE          object\n",
       "CALL_NUMBER         object\n",
       "PRIORITY             int64\n",
       "REPORT_DATE         object\n",
       "OFFENSE_DATE        object\n",
       "OFFENSE_TIME        object\n",
       "CALLTYPE_CODE       object\n",
       "CALL_TYPE           object\n",
       "FINAL_DISPO_CODE    object\n",
       "FINAL_DISPO         object\n",
       "ADDRESS             object\n",
       "CITY                object\n",
       "STATE               object\n",
       "dtype: object"
      ]
     },
     "execution_count": 3,
     "metadata": {},
     "output_type": "execute_result"
    }
   ],
   "source": [
    "calls_22.dtypes"
   ]
  },
  {
   "cell_type": "code",
   "execution_count": 4,
   "id": "acbf556f",
   "metadata": {},
   "outputs": [],
   "source": [
    "# let us first make column names lowercase\n",
    "calls_22.columns = calls_22.columns.str.lower()\n",
    "calls_23.columns = calls_22.columns.str.lower()\n",
    "calls_24.columns = calls_22.columns.str.lower()"
   ]
  },
  {
   "cell_type": "code",
   "execution_count": 5,
   "id": "91ec8a3d",
   "metadata": {
    "scrolled": true
   },
   "outputs": [],
   "source": [
    "# EID is a identification so let us make it an object\n",
    "calls_22['eid'] = calls_22['eid'].astype(str)\n",
    "calls_23['eid'] = calls_23['eid'].astype(str)\n",
    "calls_24['eid'] = calls_24['eid'].astype(str)"
   ]
  },
  {
   "cell_type": "code",
   "execution_count": 6,
   "id": "f709e07d",
   "metadata": {
    "scrolled": false
   },
   "outputs": [
    {
     "data": {
      "text/plain": [
       "cdts                     0\n",
       "eid                      0\n",
       "start_date               0\n",
       "call_number              0\n",
       "priority                 0\n",
       "report_date              0\n",
       "offense_date             0\n",
       "offense_time             0\n",
       "calltype_code            0\n",
       "call_type                0\n",
       "final_dispo_code         0\n",
       "final_dispo              0\n",
       "address             113995\n",
       "city                     0\n",
       "state                    0\n",
       "dtype: int64"
      ]
     },
     "execution_count": 6,
     "metadata": {},
     "output_type": "execute_result"
    }
   ],
   "source": [
    "# checking for missingness\n",
    "pd.concat([calls_22, calls_23, calls_24], ignore_index=True).isna().sum()\n",
    "\n",
    "# we are only missing addresses in call the df"
   ]
  },
  {
   "cell_type": "code",
   "execution_count": 7,
   "id": "947eb322",
   "metadata": {
    "scrolled": true
   },
   "outputs": [],
   "source": [
    "# date_format = '%m/%d/%Y %I:%M:%S %p'\n",
    "\n",
    "# def to_date(s):\n",
    "#     # change str to datetime type\n",
    "#     return datetime.strptime(s, date_format).date()"
   ]
  },
  {
   "cell_type": "code",
   "execution_count": 8,
   "id": "25a81414",
   "metadata": {},
   "outputs": [],
   "source": [
    "# # change all start_date\n",
    "# calls_22['start_date'] = calls_22.start_date.apply(to_date)\n",
    "# calls_23['start_date'] = calls_23.start_date.apply(to_date)\n",
    "# calls_24['start_date'] = calls_24.start_date.apply(to_date)"
   ]
  },
  {
   "cell_type": "code",
   "execution_count": 9,
   "id": "79a5566e",
   "metadata": {},
   "outputs": [],
   "source": [
    "# # change all report_date\n",
    "# calls_22['report_date'] = calls_22['report_date'].apply(to_date)\n",
    "# calls_23['report_date'] = calls_23['report_date'].apply(to_date)\n",
    "# calls_24['report_date'] = calls_24['report_date'].apply(to_date)"
   ]
  },
  {
   "cell_type": "code",
   "execution_count": 10,
   "id": "0948b466",
   "metadata": {},
   "outputs": [],
   "source": [
    "# # change all offense_date\n",
    "# calls_22['offense_date'] = calls_22['offense_date'].apply(to_date)\n",
    "# calls_23['offense_date'] = calls_23['offense_date'].apply(to_date)\n",
    "# calls_24['offense_date'] = calls_24['offense_date'].apply(to_date)"
   ]
  },
  {
   "cell_type": "code",
   "execution_count": 11,
   "id": "28321ef8",
   "metadata": {
    "scrolled": false
   },
   "outputs": [
    {
     "data": {
      "text/plain": [
       "0          02:49:02\n",
       "1          03:05:51\n",
       "2          04:35:25\n",
       "3          03:38:14\n",
       "4          23:25:49\n",
       "             ...   \n",
       "1945524    11:59:56\n",
       "1945525    11:58:53\n",
       "1945526    12:05:20\n",
       "1945527    11:04:02\n",
       "1945528    11:39:03\n",
       "Name: offense_time, Length: 1945529, dtype: object"
      ]
     },
     "execution_count": 11,
     "metadata": {},
     "output_type": "execute_result"
    }
   ],
   "source": [
    "calls_22['offense_time']"
   ]
  },
  {
   "cell_type": "code",
   "execution_count": 12,
   "id": "c97b092f",
   "metadata": {},
   "outputs": [],
   "source": [
    "# to_time = lambda x: time(*map(int, x.split(':')))"
   ]
  },
  {
   "cell_type": "code",
   "execution_count": 13,
   "id": "7977aa41",
   "metadata": {},
   "outputs": [],
   "source": [
    "# calls_22['offense_time'] = calls_22['offense_time'].apply(to_time)\n",
    "# calls_23['offense_time'] = calls_23['offense_time'].apply(to_time)\n",
    "# calls_24['offense_time'] = calls_24['offense_time'].apply(to_time)"
   ]
  },
  {
   "cell_type": "code",
   "execution_count": 14,
   "id": "3a591426",
   "metadata": {},
   "outputs": [],
   "source": [
    "# dropping city and state as they are all San Jose, CA\n",
    "calls_22 = calls_22.drop(columns=['city','state'])\n",
    "calls_23 = calls_23.drop(columns=['city','state'])\n",
    "calls_24 = calls_24.drop(columns=['city','state'])"
   ]
  },
  {
   "cell_type": "code",
   "execution_count": 15,
   "id": "c963376a",
   "metadata": {},
   "outputs": [
    {
     "data": {
      "text/plain": [
       "1945529"
      ]
     },
     "execution_count": 15,
     "metadata": {},
     "output_type": "execute_result"
    }
   ],
   "source": [
    "calls_22.shape[0]"
   ]
  },
  {
   "cell_type": "code",
   "execution_count": 16,
   "id": "321a854f",
   "metadata": {},
   "outputs": [
    {
     "data": {
      "text/plain": [
       "292604"
      ]
     },
     "execution_count": 16,
     "metadata": {},
     "output_type": "execute_result"
    }
   ],
   "source": [
    "calls_22['cdts'].nunique()"
   ]
  },
  {
   "cell_type": "code",
   "execution_count": 17,
   "id": "0000bfd1",
   "metadata": {},
   "outputs": [
    {
     "data": {
      "text/plain": [
       "287243"
      ]
     },
     "execution_count": 17,
     "metadata": {},
     "output_type": "execute_result"
    }
   ],
   "source": [
    "calls_22['eid'].nunique()"
   ]
  },
  {
   "cell_type": "code",
   "execution_count": 18,
   "id": "48474872",
   "metadata": {},
   "outputs": [
    {
     "data": {
      "text/plain": [
       "287596"
      ]
     },
     "execution_count": 18,
     "metadata": {},
     "output_type": "execute_result"
    }
   ],
   "source": [
    "calls_22['call_number'].nunique()"
   ]
  },
  {
   "cell_type": "code",
   "execution_count": 19,
   "id": "c507c35f",
   "metadata": {
    "scrolled": false
   },
   "outputs": [
    {
     "data": {
      "text/plain": [
       "1195     247413\n",
       "415      181151\n",
       "WELCK    154367\n",
       "1033A    129428\n",
       "22500     94802\n",
       "          ...  \n",
       "1066R         7\n",
       "1196X         7\n",
       "484G          5\n",
       "1066G         5\n",
       "1091B         4\n",
       "Name: calltype_code, Length: 206, dtype: int64"
      ]
     },
     "execution_count": 19,
     "metadata": {},
     "output_type": "execute_result"
    }
   ],
   "source": [
    "calls_22['calltype_code'].value_counts()"
   ]
  },
  {
   "cell_type": "code",
   "execution_count": 20,
   "id": "7a8d0ffd",
   "metadata": {},
   "outputs": [],
   "source": [
    "call_types = calls_22['call_type'].value_counts()"
   ]
  },
  {
   "cell_type": "code",
   "execution_count": 21,
   "id": "aadadfd1",
   "metadata": {},
   "outputs": [
    {
     "data": {
      "text/plain": [
       "VEHICLE STOP                247413\n",
       "DISTURBANCE                 181151\n",
       "WELFARE CHECK               154367\n",
       "ALARM, AUDIBLE              129428\n",
       "PARKING VIOLATION            94802\n",
       "                             ...  \n",
       "BATTERY (COMBINED EVENT)      2975\n",
       "SUSPICIOUS FEMALE             2947\n",
       "STRONG ARM ROBBERY            2688\n",
       "EXPIRED REGISTRATION          2645\n",
       "MISSING FEMALE JUVENILE       2524\n",
       "Name: call_type, Length: 71, dtype: int64"
      ]
     },
     "execution_count": 21,
     "metadata": {},
     "output_type": "execute_result"
    }
   ],
   "source": [
    "call_types[call_types > 2500]"
   ]
  },
  {
   "cell_type": "code",
   "execution_count": 22,
   "id": "bbfac755",
   "metadata": {
    "scrolled": true
   },
   "outputs": [],
   "source": [
    "calls_22[\"Timestamp\"] = pd.to_datetime(calls_22[\"cdts\"].str[:14], format='%Y%m%d%H%M%S', errors='coerce')"
   ]
  },
  {
   "cell_type": "markdown",
   "id": "a1ad1b3d",
   "metadata": {},
   "source": [
    "Add timestamp column"
   ]
  },
  {
   "cell_type": "code",
   "execution_count": 23,
   "id": "84ee7455",
   "metadata": {
    "scrolled": true
   },
   "outputs": [
    {
     "data": {
      "text/html": [
       "<div>\n",
       "<style scoped>\n",
       "    .dataframe tbody tr th:only-of-type {\n",
       "        vertical-align: middle;\n",
       "    }\n",
       "\n",
       "    .dataframe tbody tr th {\n",
       "        vertical-align: top;\n",
       "    }\n",
       "\n",
       "    .dataframe thead th {\n",
       "        text-align: right;\n",
       "    }\n",
       "</style>\n",
       "<table border=\"1\" class=\"dataframe\">\n",
       "  <thead>\n",
       "    <tr style=\"text-align: right;\">\n",
       "      <th></th>\n",
       "      <th>cdts</th>\n",
       "      <th>eid</th>\n",
       "      <th>start_date</th>\n",
       "      <th>call_number</th>\n",
       "      <th>priority</th>\n",
       "      <th>report_date</th>\n",
       "      <th>offense_date</th>\n",
       "      <th>offense_time</th>\n",
       "      <th>calltype_code</th>\n",
       "      <th>call_type</th>\n",
       "      <th>final_dispo_code</th>\n",
       "      <th>final_dispo</th>\n",
       "      <th>address</th>\n",
       "      <th>Timestamp</th>\n",
       "    </tr>\n",
       "  </thead>\n",
       "  <tbody>\n",
       "    <tr>\n",
       "      <th>0</th>\n",
       "      <td>20220101042916PS</td>\n",
       "      <td>8913184</td>\n",
       "      <td>2022-01-01</td>\n",
       "      <td>P220010180</td>\n",
       "      <td>2</td>\n",
       "      <td>2022-01-01</td>\n",
       "      <td>2022-01-01</td>\n",
       "      <td>02:49:02</td>\n",
       "      <td>1066</td>\n",
       "      <td>SUSPICIOUS PERSON</td>\n",
       "      <td>N</td>\n",
       "      <td>No report required; dispatch record only</td>\n",
       "      <td>[800]-[900] JEANNE AV</td>\n",
       "      <td>2022-01-01 04:29:16</td>\n",
       "    </tr>\n",
       "    <tr>\n",
       "      <th>1</th>\n",
       "      <td>20220101043036PS</td>\n",
       "      <td>8913196</td>\n",
       "      <td>2022-01-01</td>\n",
       "      <td>P220010191</td>\n",
       "      <td>2</td>\n",
       "      <td>2022-01-01</td>\n",
       "      <td>2022-01-01</td>\n",
       "      <td>03:05:51</td>\n",
       "      <td>415</td>\n",
       "      <td>DISTURBANCE</td>\n",
       "      <td>N</td>\n",
       "      <td>No report required; dispatch record only</td>\n",
       "      <td>[1500]-[1600] SOUTHWEST EX</td>\n",
       "      <td>2022-01-01 04:30:36</td>\n",
       "    </tr>\n",
       "    <tr>\n",
       "      <th>2</th>\n",
       "      <td>20220101043827PS</td>\n",
       "      <td>8913252</td>\n",
       "      <td>2022-01-01</td>\n",
       "      <td>P220010236</td>\n",
       "      <td>2</td>\n",
       "      <td>2022-01-01</td>\n",
       "      <td>2022-01-01</td>\n",
       "      <td>04:35:25</td>\n",
       "      <td>911UNK</td>\n",
       "      <td>UNK TYPE 911 CALL</td>\n",
       "      <td>CAN</td>\n",
       "      <td>Canceled</td>\n",
       "      <td>[4800]-[4900] WESTMONT AV</td>\n",
       "      <td>2022-01-01 04:38:27</td>\n",
       "    </tr>\n",
       "    <tr>\n",
       "      <th>3</th>\n",
       "      <td>20220101044026PS</td>\n",
       "      <td>8913216</td>\n",
       "      <td>2022-01-01</td>\n",
       "      <td>P220010206</td>\n",
       "      <td>2</td>\n",
       "      <td>2022-01-01</td>\n",
       "      <td>2022-01-01</td>\n",
       "      <td>03:38:14</td>\n",
       "      <td>SUSCIR</td>\n",
       "      <td>SUSPICIOUS CIRCUMSTANCES</td>\n",
       "      <td>N</td>\n",
       "      <td>No report required; dispatch record only</td>\n",
       "      <td>[3600]-[3700] GREENLEE DR</td>\n",
       "      <td>2022-01-01 04:40:26</td>\n",
       "    </tr>\n",
       "    <tr>\n",
       "      <th>4</th>\n",
       "      <td>20220102052501PS</td>\n",
       "      <td>8914182</td>\n",
       "      <td>2022-01-01</td>\n",
       "      <td>P220010965</td>\n",
       "      <td>4</td>\n",
       "      <td>2022-01-01</td>\n",
       "      <td>2022-01-01</td>\n",
       "      <td>23:25:49</td>\n",
       "      <td>11300</td>\n",
       "      <td>NARCOTICS</td>\n",
       "      <td>A</td>\n",
       "      <td>Arrest Made</td>\n",
       "      <td>E CAPITOL EX &amp; EVERGREEN PL</td>\n",
       "      <td>2022-01-02 05:25:01</td>\n",
       "    </tr>\n",
       "    <tr>\n",
       "      <th>...</th>\n",
       "      <td>...</td>\n",
       "      <td>...</td>\n",
       "      <td>...</td>\n",
       "      <td>...</td>\n",
       "      <td>...</td>\n",
       "      <td>...</td>\n",
       "      <td>...</td>\n",
       "      <td>...</td>\n",
       "      <td>...</td>\n",
       "      <td>...</td>\n",
       "      <td>...</td>\n",
       "      <td>...</td>\n",
       "      <td>...</td>\n",
       "      <td>...</td>\n",
       "    </tr>\n",
       "    <tr>\n",
       "      <th>1945524</th>\n",
       "      <td>20221228120500PS</td>\n",
       "      <td>9378794</td>\n",
       "      <td>2023-01-01</td>\n",
       "      <td>P223620363</td>\n",
       "      <td>6</td>\n",
       "      <td>2022-12-28</td>\n",
       "      <td>2022-12-28</td>\n",
       "      <td>11:59:56</td>\n",
       "      <td>1195</td>\n",
       "      <td>VEHICLE STOP</td>\n",
       "      <td>D</td>\n",
       "      <td>Traffic Citation Issued, Hazardous Violation</td>\n",
       "      <td>E CAPITOL EX &amp; SILVER CREEK RD</td>\n",
       "      <td>2022-12-28 12:05:00</td>\n",
       "    </tr>\n",
       "    <tr>\n",
       "      <th>1945525</th>\n",
       "      <td>20221228120704PS</td>\n",
       "      <td>9378791</td>\n",
       "      <td>2023-01-01</td>\n",
       "      <td>P223620361</td>\n",
       "      <td>6</td>\n",
       "      <td>2022-12-28</td>\n",
       "      <td>2022-12-28</td>\n",
       "      <td>11:58:53</td>\n",
       "      <td>1195</td>\n",
       "      <td>VEHICLE STOP</td>\n",
       "      <td>D</td>\n",
       "      <td>Traffic Citation Issued, Hazardous Violation</td>\n",
       "      <td>FLICKINGER AV &amp; JONESPORT AV</td>\n",
       "      <td>2022-12-28 12:07:04</td>\n",
       "    </tr>\n",
       "    <tr>\n",
       "      <th>1945526</th>\n",
       "      <td>20221228120925PS</td>\n",
       "      <td>9378802</td>\n",
       "      <td>2023-01-01</td>\n",
       "      <td>P223620369</td>\n",
       "      <td>6</td>\n",
       "      <td>2022-12-28</td>\n",
       "      <td>2022-12-28</td>\n",
       "      <td>12:05:20</td>\n",
       "      <td>1195X</td>\n",
       "      <td>VEHICLE STOP ON FEMALE</td>\n",
       "      <td>D</td>\n",
       "      <td>Traffic Citation Issued, Hazardous Violation</td>\n",
       "      <td>NaN</td>\n",
       "      <td>2022-12-28 12:09:25</td>\n",
       "    </tr>\n",
       "    <tr>\n",
       "      <th>1945527</th>\n",
       "      <td>20221228121108PS</td>\n",
       "      <td>9378721</td>\n",
       "      <td>2023-01-01</td>\n",
       "      <td>P223620308</td>\n",
       "      <td>4</td>\n",
       "      <td>2022-12-28</td>\n",
       "      <td>2022-12-28</td>\n",
       "      <td>11:04:02</td>\n",
       "      <td>22500</td>\n",
       "      <td>PARKING VIOLATION</td>\n",
       "      <td>CAN</td>\n",
       "      <td>Canceled</td>\n",
       "      <td>[1400]-[1500] N SAN PEDRO ST</td>\n",
       "      <td>2022-12-28 12:11:08</td>\n",
       "    </tr>\n",
       "    <tr>\n",
       "      <th>1945528</th>\n",
       "      <td>20221228121134PS</td>\n",
       "      <td>9378767</td>\n",
       "      <td>2023-01-01</td>\n",
       "      <td>P223620342</td>\n",
       "      <td>3</td>\n",
       "      <td>2022-12-28</td>\n",
       "      <td>2022-12-28</td>\n",
       "      <td>11:39:03</td>\n",
       "      <td>SUSCIR</td>\n",
       "      <td>SUSPICIOUS CIRCUMSTANCES</td>\n",
       "      <td>CAN</td>\n",
       "      <td>Canceled</td>\n",
       "      <td>SERVICE ST &amp; OAKLAND RD</td>\n",
       "      <td>2022-12-28 12:11:34</td>\n",
       "    </tr>\n",
       "  </tbody>\n",
       "</table>\n",
       "<p>1945529 rows × 14 columns</p>\n",
       "</div>"
      ],
      "text/plain": [
       "                     cdts      eid  start_date call_number  priority  \\\n",
       "0        20220101042916PS  8913184  2022-01-01  P220010180         2   \n",
       "1        20220101043036PS  8913196  2022-01-01  P220010191         2   \n",
       "2        20220101043827PS  8913252  2022-01-01  P220010236         2   \n",
       "3        20220101044026PS  8913216  2022-01-01  P220010206         2   \n",
       "4        20220102052501PS  8914182  2022-01-01  P220010965         4   \n",
       "...                   ...      ...         ...         ...       ...   \n",
       "1945524  20221228120500PS  9378794  2023-01-01  P223620363         6   \n",
       "1945525  20221228120704PS  9378791  2023-01-01  P223620361         6   \n",
       "1945526  20221228120925PS  9378802  2023-01-01  P223620369         6   \n",
       "1945527  20221228121108PS  9378721  2023-01-01  P223620308         4   \n",
       "1945528  20221228121134PS  9378767  2023-01-01  P223620342         3   \n",
       "\n",
       "        report_date offense_date offense_time calltype_code  \\\n",
       "0        2022-01-01   2022-01-01     02:49:02          1066   \n",
       "1        2022-01-01   2022-01-01     03:05:51           415   \n",
       "2        2022-01-01   2022-01-01     04:35:25        911UNK   \n",
       "3        2022-01-01   2022-01-01     03:38:14        SUSCIR   \n",
       "4        2022-01-01   2022-01-01     23:25:49         11300   \n",
       "...             ...          ...          ...           ...   \n",
       "1945524  2022-12-28   2022-12-28     11:59:56          1195   \n",
       "1945525  2022-12-28   2022-12-28     11:58:53          1195   \n",
       "1945526  2022-12-28   2022-12-28     12:05:20         1195X   \n",
       "1945527  2022-12-28   2022-12-28     11:04:02         22500   \n",
       "1945528  2022-12-28   2022-12-28     11:39:03        SUSCIR   \n",
       "\n",
       "                        call_type final_dispo_code  \\\n",
       "0               SUSPICIOUS PERSON                N   \n",
       "1                     DISTURBANCE                N   \n",
       "2               UNK TYPE 911 CALL              CAN   \n",
       "3        SUSPICIOUS CIRCUMSTANCES                N   \n",
       "4                       NARCOTICS                A   \n",
       "...                           ...              ...   \n",
       "1945524              VEHICLE STOP                D   \n",
       "1945525              VEHICLE STOP                D   \n",
       "1945526    VEHICLE STOP ON FEMALE                D   \n",
       "1945527         PARKING VIOLATION              CAN   \n",
       "1945528  SUSPICIOUS CIRCUMSTANCES              CAN   \n",
       "\n",
       "                                          final_dispo  \\\n",
       "0            No report required; dispatch record only   \n",
       "1            No report required; dispatch record only   \n",
       "2                                            Canceled   \n",
       "3            No report required; dispatch record only   \n",
       "4                                         Arrest Made   \n",
       "...                                               ...   \n",
       "1945524  Traffic Citation Issued, Hazardous Violation   \n",
       "1945525  Traffic Citation Issued, Hazardous Violation   \n",
       "1945526  Traffic Citation Issued, Hazardous Violation   \n",
       "1945527                                      Canceled   \n",
       "1945528                                      Canceled   \n",
       "\n",
       "                                address           Timestamp  \n",
       "0                [800]-[900] JEANNE AV  2022-01-01 04:29:16  \n",
       "1           [1500]-[1600] SOUTHWEST EX  2022-01-01 04:30:36  \n",
       "2            [4800]-[4900] WESTMONT AV  2022-01-01 04:38:27  \n",
       "3            [3600]-[3700] GREENLEE DR  2022-01-01 04:40:26  \n",
       "4           E CAPITOL EX & EVERGREEN PL 2022-01-02 05:25:01  \n",
       "...                                 ...                 ...  \n",
       "1945524  E CAPITOL EX & SILVER CREEK RD 2022-12-28 12:05:00  \n",
       "1945525    FLICKINGER AV & JONESPORT AV 2022-12-28 12:07:04  \n",
       "1945526                             NaN 2022-12-28 12:09:25  \n",
       "1945527   [1400]-[1500] N SAN PEDRO ST  2022-12-28 12:11:08  \n",
       "1945528         SERVICE ST & OAKLAND RD 2022-12-28 12:11:34  \n",
       "\n",
       "[1945529 rows x 14 columns]"
      ]
     },
     "execution_count": 23,
     "metadata": {},
     "output_type": "execute_result"
    }
   ],
   "source": [
    "calls_22"
   ]
  },
  {
   "cell_type": "code",
   "execution_count": 24,
   "id": "22b18735",
   "metadata": {},
   "outputs": [
    {
     "name": "stdout",
     "output_type": "stream",
     "text": [
      "Empty DataFrame\n",
      "Columns: [cdts, eid, start_date, call_number, priority, report_date, offense_date, offense_time, calltype_code, call_type, final_dispo_code, final_dispo, address, Timestamp]\n",
      "Index: []\n"
     ]
    }
   ],
   "source": [
    "different_dates = calls_22[calls_22[\"report_date\"] != calls_22[\"offense_date\"]]\n",
    "print(different_dates)"
   ]
  },
  {
   "cell_type": "markdown",
   "id": "0a306b2c",
   "metadata": {},
   "source": [
    "Every value for report_date and offense_date is same"
   ]
  },
  {
   "cell_type": "markdown",
   "id": "ace53c8a",
   "metadata": {},
   "source": [
    "Remove unnecessary columns: report_date, offense_date, start_date, cdts"
   ]
  },
  {
   "cell_type": "code",
   "execution_count": 27,
   "id": "a8ba6168",
   "metadata": {
    "scrolled": true
   },
   "outputs": [],
   "source": [
    "pp_calls_22 = calls_22.drop(columns=['report_date', 'offense_date', 'start_date', 'cdts'])"
   ]
  },
  {
   "cell_type": "code",
   "execution_count": 28,
   "id": "4e14b35f",
   "metadata": {
    "scrolled": true
   },
   "outputs": [
    {
     "data": {
      "text/html": [
       "<div>\n",
       "<style scoped>\n",
       "    .dataframe tbody tr th:only-of-type {\n",
       "        vertical-align: middle;\n",
       "    }\n",
       "\n",
       "    .dataframe tbody tr th {\n",
       "        vertical-align: top;\n",
       "    }\n",
       "\n",
       "    .dataframe thead th {\n",
       "        text-align: right;\n",
       "    }\n",
       "</style>\n",
       "<table border=\"1\" class=\"dataframe\">\n",
       "  <thead>\n",
       "    <tr style=\"text-align: right;\">\n",
       "      <th></th>\n",
       "      <th>eid</th>\n",
       "      <th>call_number</th>\n",
       "      <th>priority</th>\n",
       "      <th>offense_time</th>\n",
       "      <th>calltype_code</th>\n",
       "      <th>call_type</th>\n",
       "      <th>final_dispo_code</th>\n",
       "      <th>final_dispo</th>\n",
       "      <th>address</th>\n",
       "      <th>Timestamp</th>\n",
       "    </tr>\n",
       "  </thead>\n",
       "  <tbody>\n",
       "    <tr>\n",
       "      <th>0</th>\n",
       "      <td>8913184</td>\n",
       "      <td>P220010180</td>\n",
       "      <td>2</td>\n",
       "      <td>02:49:02</td>\n",
       "      <td>1066</td>\n",
       "      <td>SUSPICIOUS PERSON</td>\n",
       "      <td>N</td>\n",
       "      <td>No report required; dispatch record only</td>\n",
       "      <td>[800]-[900] JEANNE AV</td>\n",
       "      <td>2022-01-01 04:29:16</td>\n",
       "    </tr>\n",
       "    <tr>\n",
       "      <th>1</th>\n",
       "      <td>8913196</td>\n",
       "      <td>P220010191</td>\n",
       "      <td>2</td>\n",
       "      <td>03:05:51</td>\n",
       "      <td>415</td>\n",
       "      <td>DISTURBANCE</td>\n",
       "      <td>N</td>\n",
       "      <td>No report required; dispatch record only</td>\n",
       "      <td>[1500]-[1600] SOUTHWEST EX</td>\n",
       "      <td>2022-01-01 04:30:36</td>\n",
       "    </tr>\n",
       "    <tr>\n",
       "      <th>2</th>\n",
       "      <td>8913252</td>\n",
       "      <td>P220010236</td>\n",
       "      <td>2</td>\n",
       "      <td>04:35:25</td>\n",
       "      <td>911UNK</td>\n",
       "      <td>UNK TYPE 911 CALL</td>\n",
       "      <td>CAN</td>\n",
       "      <td>Canceled</td>\n",
       "      <td>[4800]-[4900] WESTMONT AV</td>\n",
       "      <td>2022-01-01 04:38:27</td>\n",
       "    </tr>\n",
       "    <tr>\n",
       "      <th>3</th>\n",
       "      <td>8913216</td>\n",
       "      <td>P220010206</td>\n",
       "      <td>2</td>\n",
       "      <td>03:38:14</td>\n",
       "      <td>SUSCIR</td>\n",
       "      <td>SUSPICIOUS CIRCUMSTANCES</td>\n",
       "      <td>N</td>\n",
       "      <td>No report required; dispatch record only</td>\n",
       "      <td>[3600]-[3700] GREENLEE DR</td>\n",
       "      <td>2022-01-01 04:40:26</td>\n",
       "    </tr>\n",
       "    <tr>\n",
       "      <th>4</th>\n",
       "      <td>8914182</td>\n",
       "      <td>P220010965</td>\n",
       "      <td>4</td>\n",
       "      <td>23:25:49</td>\n",
       "      <td>11300</td>\n",
       "      <td>NARCOTICS</td>\n",
       "      <td>A</td>\n",
       "      <td>Arrest Made</td>\n",
       "      <td>E CAPITOL EX &amp; EVERGREEN PL</td>\n",
       "      <td>2022-01-02 05:25:01</td>\n",
       "    </tr>\n",
       "    <tr>\n",
       "      <th>...</th>\n",
       "      <td>...</td>\n",
       "      <td>...</td>\n",
       "      <td>...</td>\n",
       "      <td>...</td>\n",
       "      <td>...</td>\n",
       "      <td>...</td>\n",
       "      <td>...</td>\n",
       "      <td>...</td>\n",
       "      <td>...</td>\n",
       "      <td>...</td>\n",
       "    </tr>\n",
       "    <tr>\n",
       "      <th>1945524</th>\n",
       "      <td>9378794</td>\n",
       "      <td>P223620363</td>\n",
       "      <td>6</td>\n",
       "      <td>11:59:56</td>\n",
       "      <td>1195</td>\n",
       "      <td>VEHICLE STOP</td>\n",
       "      <td>D</td>\n",
       "      <td>Traffic Citation Issued, Hazardous Violation</td>\n",
       "      <td>E CAPITOL EX &amp; SILVER CREEK RD</td>\n",
       "      <td>2022-12-28 12:05:00</td>\n",
       "    </tr>\n",
       "    <tr>\n",
       "      <th>1945525</th>\n",
       "      <td>9378791</td>\n",
       "      <td>P223620361</td>\n",
       "      <td>6</td>\n",
       "      <td>11:58:53</td>\n",
       "      <td>1195</td>\n",
       "      <td>VEHICLE STOP</td>\n",
       "      <td>D</td>\n",
       "      <td>Traffic Citation Issued, Hazardous Violation</td>\n",
       "      <td>FLICKINGER AV &amp; JONESPORT AV</td>\n",
       "      <td>2022-12-28 12:07:04</td>\n",
       "    </tr>\n",
       "    <tr>\n",
       "      <th>1945526</th>\n",
       "      <td>9378802</td>\n",
       "      <td>P223620369</td>\n",
       "      <td>6</td>\n",
       "      <td>12:05:20</td>\n",
       "      <td>1195X</td>\n",
       "      <td>VEHICLE STOP ON FEMALE</td>\n",
       "      <td>D</td>\n",
       "      <td>Traffic Citation Issued, Hazardous Violation</td>\n",
       "      <td>NaN</td>\n",
       "      <td>2022-12-28 12:09:25</td>\n",
       "    </tr>\n",
       "    <tr>\n",
       "      <th>1945527</th>\n",
       "      <td>9378721</td>\n",
       "      <td>P223620308</td>\n",
       "      <td>4</td>\n",
       "      <td>11:04:02</td>\n",
       "      <td>22500</td>\n",
       "      <td>PARKING VIOLATION</td>\n",
       "      <td>CAN</td>\n",
       "      <td>Canceled</td>\n",
       "      <td>[1400]-[1500] N SAN PEDRO ST</td>\n",
       "      <td>2022-12-28 12:11:08</td>\n",
       "    </tr>\n",
       "    <tr>\n",
       "      <th>1945528</th>\n",
       "      <td>9378767</td>\n",
       "      <td>P223620342</td>\n",
       "      <td>3</td>\n",
       "      <td>11:39:03</td>\n",
       "      <td>SUSCIR</td>\n",
       "      <td>SUSPICIOUS CIRCUMSTANCES</td>\n",
       "      <td>CAN</td>\n",
       "      <td>Canceled</td>\n",
       "      <td>SERVICE ST &amp; OAKLAND RD</td>\n",
       "      <td>2022-12-28 12:11:34</td>\n",
       "    </tr>\n",
       "  </tbody>\n",
       "</table>\n",
       "<p>1945529 rows × 10 columns</p>\n",
       "</div>"
      ],
      "text/plain": [
       "             eid call_number  priority offense_time calltype_code  \\\n",
       "0        8913184  P220010180         2     02:49:02          1066   \n",
       "1        8913196  P220010191         2     03:05:51           415   \n",
       "2        8913252  P220010236         2     04:35:25        911UNK   \n",
       "3        8913216  P220010206         2     03:38:14        SUSCIR   \n",
       "4        8914182  P220010965         4     23:25:49         11300   \n",
       "...          ...         ...       ...          ...           ...   \n",
       "1945524  9378794  P223620363         6     11:59:56          1195   \n",
       "1945525  9378791  P223620361         6     11:58:53          1195   \n",
       "1945526  9378802  P223620369         6     12:05:20         1195X   \n",
       "1945527  9378721  P223620308         4     11:04:02         22500   \n",
       "1945528  9378767  P223620342         3     11:39:03        SUSCIR   \n",
       "\n",
       "                        call_type final_dispo_code  \\\n",
       "0               SUSPICIOUS PERSON                N   \n",
       "1                     DISTURBANCE                N   \n",
       "2               UNK TYPE 911 CALL              CAN   \n",
       "3        SUSPICIOUS CIRCUMSTANCES                N   \n",
       "4                       NARCOTICS                A   \n",
       "...                           ...              ...   \n",
       "1945524              VEHICLE STOP                D   \n",
       "1945525              VEHICLE STOP                D   \n",
       "1945526    VEHICLE STOP ON FEMALE                D   \n",
       "1945527         PARKING VIOLATION              CAN   \n",
       "1945528  SUSPICIOUS CIRCUMSTANCES              CAN   \n",
       "\n",
       "                                          final_dispo  \\\n",
       "0            No report required; dispatch record only   \n",
       "1            No report required; dispatch record only   \n",
       "2                                            Canceled   \n",
       "3            No report required; dispatch record only   \n",
       "4                                         Arrest Made   \n",
       "...                                               ...   \n",
       "1945524  Traffic Citation Issued, Hazardous Violation   \n",
       "1945525  Traffic Citation Issued, Hazardous Violation   \n",
       "1945526  Traffic Citation Issued, Hazardous Violation   \n",
       "1945527                                      Canceled   \n",
       "1945528                                      Canceled   \n",
       "\n",
       "                                address           Timestamp  \n",
       "0                [800]-[900] JEANNE AV  2022-01-01 04:29:16  \n",
       "1           [1500]-[1600] SOUTHWEST EX  2022-01-01 04:30:36  \n",
       "2            [4800]-[4900] WESTMONT AV  2022-01-01 04:38:27  \n",
       "3            [3600]-[3700] GREENLEE DR  2022-01-01 04:40:26  \n",
       "4           E CAPITOL EX & EVERGREEN PL 2022-01-02 05:25:01  \n",
       "...                                 ...                 ...  \n",
       "1945524  E CAPITOL EX & SILVER CREEK RD 2022-12-28 12:05:00  \n",
       "1945525    FLICKINGER AV & JONESPORT AV 2022-12-28 12:07:04  \n",
       "1945526                             NaN 2022-12-28 12:09:25  \n",
       "1945527   [1400]-[1500] N SAN PEDRO ST  2022-12-28 12:11:08  \n",
       "1945528         SERVICE ST & OAKLAND RD 2022-12-28 12:11:34  \n",
       "\n",
       "[1945529 rows x 10 columns]"
      ]
     },
     "execution_count": 28,
     "metadata": {},
     "output_type": "execute_result"
    }
   ],
   "source": [
    "pp_calls_22"
   ]
  },
  {
   "cell_type": "code",
   "execution_count": null,
   "id": "f35a4167",
   "metadata": {},
   "outputs": [],
   "source": []
  }
 ],
 "metadata": {
  "kernelspec": {
   "display_name": "Python 3 (ipykernel)",
   "language": "python",
   "name": "python3"
  },
  "language_info": {
   "codemirror_mode": {
    "name": "ipython",
    "version": 3
   },
   "file_extension": ".py",
   "mimetype": "text/x-python",
   "name": "python",
   "nbconvert_exporter": "python",
   "pygments_lexer": "ipython3",
   "version": "3.9.7"
  }
 },
 "nbformat": 4,
 "nbformat_minor": 5
}
