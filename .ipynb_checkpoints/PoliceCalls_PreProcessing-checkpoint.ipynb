{
 "cells": [
  {
   "cell_type": "code",
   "execution_count": 1,
   "id": "e17c87ce",
   "metadata": {},
   "outputs": [],
   "source": [
    "import pandas as pd\n",
    "from datetime import datetime\n",
    "from datetime import time\n",
    "import matplotlib.pyplot as plt"
   ]
  },
  {
   "cell_type": "code",
   "execution_count": 2,
   "id": "e78f68db",
   "metadata": {},
   "outputs": [],
   "source": [
    "# reading all call records\n",
    "calls_22 = pd.read_csv(\"data/policecalls2022.csv\")\n",
    "calls_23 = pd.read_csv(\"data/policecalls2023.csv\")\n",
    "calls_24 = pd.read_csv(\"data/policecalls2024.csv\")"
   ]
  },
  {
   "cell_type": "code",
   "execution_count": 3,
   "id": "09442e5c",
   "metadata": {
    "scrolled": true
   },
   "outputs": [],
   "source": [
    "calls = pd.concat([calls_22, calls_23, calls_24], ignore_index=True)"
   ]
  },
  {
   "cell_type": "code",
   "execution_count": 4,
   "id": "0807e9e1",
   "metadata": {},
   "outputs": [
    {
     "data": {
      "text/plain": [
       "CDTS                object\n",
       "EID                  int64\n",
       "START_DATE          object\n",
       "CALL_NUMBER         object\n",
       "PRIORITY             int64\n",
       "REPORT_DATE         object\n",
       "OFFENSE_DATE        object\n",
       "OFFENSE_TIME        object\n",
       "CALLTYPE_CODE       object\n",
       "CALL_TYPE           object\n",
       "FINAL_DISPO_CODE    object\n",
       "FINAL_DISPO         object\n",
       "ADDRESS             object\n",
       "CITY                object\n",
       "STATE               object\n",
       "dtype: object"
      ]
     },
     "execution_count": 4,
     "metadata": {},
     "output_type": "execute_result"
    }
   ],
   "source": [
    "calls.dtypes"
   ]
  },
  {
   "cell_type": "markdown",
   "id": "8a83f5b1",
   "metadata": {},
   "source": [
    "### Columns\n",
    "1. CDTS: Call Date Time Stamp - Represents the timestamp indicating the time of the call or when the system recorded the data.\n",
    "2. EID: Event ID - Appears to be a unique identifier for an event or call.\n",
    "3. START_DATE: Indicates the date and time when the call started.\n",
    "4. CALL_NUMBER: May represent a unique number or identifier for the call.\n",
    "5. PRIORITY: Indicates the priority of the call or event (e.g., urgent, important, normal).\n",
    "6. REPORT_DATE: Indicates the date when the event or call was reported.\n",
    "7. OFFENSE_DATE: Represents the date when the offense or event occurred.\n",
    "8. OFFENSE_TIME: Represents the time when the offense or event occurred.\n",
    "9. CALLTYPE_CODE: Represents the type of call with a code.\n",
    "10. CALL_TYPE: Describes the actual type or content of the call.\n",
    "11. FINAL_DISPO_CODE: Represents a code for the final disposition or outcome of the call or event.\n",
    "12. FINAL_DISPO: Describes the final disposition or outcome of the call or event.\n",
    "13. ADDRESS: Represents the address where the event or call occurred.\n",
    "14. CITY: Represents the city where the event or call occurred.\n",
    "15. STATE: Represents the state where the event or call occurred (applicable for the United States)."
   ]
  },
  {
   "cell_type": "code",
   "execution_count": 5,
   "id": "c8aec6d7",
   "metadata": {},
   "outputs": [
    {
     "name": "stdout",
     "output_type": "stream",
     "text": [
      "Index(['CDTS', 'EID', 'START_DATE', 'CALL_NUMBER', 'PRIORITY', 'REPORT_DATE',\n",
      "       'OFFENSE_DATE', 'OFFENSE_TIME', 'CALLTYPE_CODE', 'CALL_TYPE',\n",
      "       'FINAL_DISPO_CODE', 'FINAL_DISPO', 'ADDRESS', 'CITY', 'STATE'],\n",
      "      dtype='object')\n"
     ]
    }
   ],
   "source": [
    "print(calls.columns)"
   ]
  },
  {
   "cell_type": "code",
   "execution_count": 6,
   "id": "a8704ab7",
   "metadata": {},
   "outputs": [
    {
     "data": {
      "text/plain": [
       "CDTS                     0\n",
       "EID                      0\n",
       "START_DATE               0\n",
       "CALL_NUMBER              0\n",
       "PRIORITY                 0\n",
       "REPORT_DATE              0\n",
       "OFFENSE_DATE             0\n",
       "OFFENSE_TIME             0\n",
       "CALLTYPE_CODE            0\n",
       "CALL_TYPE                0\n",
       "FINAL_DISPO_CODE         0\n",
       "FINAL_DISPO              0\n",
       "ADDRESS             113995\n",
       "CITY                     0\n",
       "STATE                    0\n",
       "dtype: int64"
      ]
     },
     "execution_count": 6,
     "metadata": {},
     "output_type": "execute_result"
    }
   ],
   "source": [
    "# checking for missingness\n",
    "calls.isna().sum()"
   ]
  },
  {
   "cell_type": "code",
   "execution_count": 7,
   "id": "c2c9f07b",
   "metadata": {
    "scrolled": true
   },
   "outputs": [
    {
     "data": {
      "text/plain": [
       "array(['SUSPICIOUS PERSON', 'DISTURBANCE', 'UNK TYPE 911 CALL',\n",
       "       'SUSPICIOUS CIRCUMSTANCES', 'NARCOTICS',\n",
       "       'DISTURBANCE, FIRECRACKERS', 'FIREARMS DISCHARGED',\n",
       "       'PEDESTRIAN STOP', 'WELFARE CHECK (COMBINED EVENT)',\n",
       "       'PUBLIC SAFETY ASSISTANCE', 'ALARM, AUDIBLE', 'DISTURBANCE, MUSIC',\n",
       "       'PROWLER', 'WELFARE CHECK', 'ALARM, SILENT', 'RECKLESS DRIVING',\n",
       "       'SUSPICIOUS PERSON W/ WEAPON', 'MENTALLY DISTURBED PERSON',\n",
       "       'BATTERY', 'BRANDISHING A WEAPON', 'PARKING VIOLATION',\n",
       "       'VEHICLE STOP', 'SUSPICIOUS VEHICLE', 'DISTURBANCE, FAMILY',\n",
       "       'MISDEMEANOR HIT AND RUN', 'THEFT', 'DISTURBANCE, FIGHT',\n",
       "       'STOLEN VEHICLE', 'VEHICLE ACCIDENT, PROPERTY DAMAGE',\n",
       "       'RECOVERED STOLEN VEHICLE', 'CARRYING A CONCEALED WEAPON',\n",
       "       'FOUND PROPERTY', 'TRESPASSING', 'VEHICLE STOP ON FEMALE',\n",
       "       'TRAFFIC HAZARD', 'MEET THE CITIZEN', 'DISTURBANCE, UNKNOWN',\n",
       "       'ARMED ROBBERY', 'MISDEMEANOR DUI', 'GRAND THEFT',\n",
       "       'MISSING FEMALE JUVENILE', 'CORONERS CASE', 'MALICIOUS MISCHIEF',\n",
       "       'FELONY WANT', 'VEHICLE ACCIDENT, MINOR INJURIES',\n",
       "       'VEHICLE BURGLARY', 'DISTURBANCE, NEIGHBOR', 'INDECENT EXPOSURE',\n",
       "       'VEHICLE ACCIDENT, UNKNOWN INJURIES', 'BURGLARY (460)',\n",
       "       'FIRE DEPARTMENT REQUEST FOR PD', 'MENTALLY DISTURBED FEMALE',\n",
       "       'MISDEMEANOR WANT', 'CRIMINAL THREATS', 'DISTURBANCE, WEAPON',\n",
       "       'STRONG ARM ROBBERY', 'ILLEGAL WEAPONS',\n",
       "       'ASSAULT WITH DEADLY WEAPON', 'VIOLATION OF PROTECTIVE ORDER',\n",
       "       'ABANDONED VEHICLE', 'MISSING PERSON',\n",
       "       'VEHICLE ACCIDENT, MAJOR INJURIES', 'OPEN DOOR',\n",
       "       'ANIMAL COMPLAINT', 'BURGLARY  REPORT  (460)', 'ALARM',\n",
       "       '1091AB          - VICIOUS ANIMAL (COMBINED EVENT)',\n",
       "       'USE OF CONTROLLED SUBSTANCE', 'DISTURBANCE, MOTORCYCLE',\n",
       "       'VEHICLE ACCIDENT, AMB DISPATCHED', 'SUSPICIOUS PACKAGE',\n",
       "       'ASSAULT WITH DEADLY WEAPON (COMBINED EVENT)',\n",
       "       'DRIVING W/SUSPENDED LICENSE',\n",
       "       'DISTURBANCE, FIGHT (COMBINED EVENT)',\n",
       "       'SHOOTING INTO OCCP VEH OR DWELLING', 'BATTERY (COMBINED EVENT)',\n",
       "       'MISSING PERSON, MENTAL HANDICAP', 'DISTURBANCE (COMBINED EVENT)',\n",
       "       'MALICIOUS MISCHIEF, GANG RELATED', 'DEAD ANIMAL', 'ROBBERY',\n",
       "       'VICIOUS ANIMAL', 'MISSING JUVENILE', 'FOUND, MISSING PERSON',\n",
       "       'CIVIL MATTER', 'EXPLOSION', 'ARSON (447A)', 'FELONY HIT AND RUN',\n",
       "       'RESISTING ARREST, GANG RELATED', 'EXPIRED REGISTRATION',\n",
       "       'TAMPERING WITH A VEHICLE', 'DISTURBANCE, FAMILY (COMBINED EVENT)',\n",
       "       'FIRE (SPECIFY TYPE)', 'PETTY THEFT (BROADCAST ONLY)',\n",
       "       'RESISTING ARREST', 'ELDER/DEPENDENT ADULT ABUSE',\n",
       "       'DISTURBANCE, UNKNOWN (COMBINED EVENT)', 'BATTERY ON AN OFFICER',\n",
       "       'DRUNK IN PUBLIC', 'ASSAULT', 'HANDICAPPED PARKING VIOLATION',\n",
       "       'PETTY THEFT', 'POSSESSION OF NARCOTICS, GANG RELATED', 'VAGRANT',\n",
       "       'EMBEZZLEMENT', 'SICK PERSON', 'PERSON CALLING FOR HELP',\n",
       "       'SUSPICIOUS FEMALE', 'ARMED ROBBERY (COMBINED EVENT)',\n",
       "       'RECEIVE/POSSESS STOLEN PROP', 'ASSAULT WITH DEADLY WEAPON, GANG',\n",
       "       'CRUELTY TO ANIMALS', 'SUSPICIOUS CIRCUMSTANCES (COMBINED EVENT)',\n",
       "       'REFUSAL TO LEAVE PROPERTY', 'FEMALE CALLING FOR HELP',\n",
       "       'TRAFFIC CONTROL', 'GARBAGE COMPLAINT', 'DISTURBANCE, JUVENILE',\n",
       "       'THROWING SUBSTANCES AT VEHICLE', 'CHILD ABUSE', 'CHILD BEATING',\n",
       "       'MISSING FEMALE', 'BAD CHECKS', 'MOLEST/ANNOY UNDER 18YRS',\n",
       "       'REGISTRATION OF SEX OFFENDER', 'SOLICITING FOR PROSTITUTION',\n",
       "       'UNLICENSED DRIVER', 'POSSESSION OF NARCOTICS', 'SPEED CONTEST',\n",
       "       'INJURED ANIMAL', 'PEDESTRIAN STOP ON FEMALE',\n",
       "       'COMMUNITY POLICING MEETING', 'THEFT OF RECYCLABLES',\n",
       "       'ASSAULT ON AN OFFICER', 'OBSTRUCT STREETS OR SIDEWALK',\n",
       "       'STALKING', 'OBSCENE OR HARASSING PH CALLS',\n",
       "       'PURSE SNATCH ROBBERY', 'PAROLE VIOLATION',\n",
       "       'ILLEGAL WEAPONS, GANG RELATED', 'FORGERY',\n",
       "       'BATTERY, SERIOUS INJURY', 'BOMB THREAT', 'DEFRAUDING AN INKEEPER',\n",
       "       'DISTURBANCE, WEAPON (COMBINED EVENT)', 'COMMUNIT POLICING BIKE',\n",
       "       'PERSON STABBED', 'POSSESSION OF CONTROLLED SUBSTANCE',\n",
       "       'ALARM, SVRN', 'FALSE IMPRISONMENT', 'NARCOTICS, GANG RELATED',\n",
       "       'PERSON SHOT', 'STOLEN VEHICLE, GANG RELATED', 'FELONY DUI',\n",
       "       'COMMUNITY POLICING SCHOOL', 'INJURED PERSON',\n",
       "       'BATTERY, GANG RELATED', 'EXTORTION', 'SPEEDING', 'HATE CRIMES',\n",
       "       'DOMESTIC VIOLENCE  (COMBINED EVENT)', 'HI-TECH CRIMES',\n",
       "       'STRONG ARM ROBBERY (COMBINED EVENT)', 'POSSESSION OF MARIJUANA',\n",
       "       'DISTURBANCE, GANG', 'SUSPICIOUS PERSON (GANG)',\n",
       "       'MINOR IN POSSESSION OF ALCOHOL', 'KIDNAPPING',\n",
       "       'OBSTRUCT MEDICAL CLINIC-PERSON', 'MURDER',\n",
       "       'POSSESSION OF CONTROLLED SUBSTANCE, GANG RELATED', 'OPEN WINDOW',\n",
       "       'DISTURBANCE, FIGHT GANG', 'BREACH OF AOA', 'DROWNING',\n",
       "       'ROBBERY, GANG RELATED', 'TAKE A REPORT', 'INTOXICATED PERSON',\n",
       "       'VEHICLE STOP, SEND FILL', 'COMMUNITY POLICING -CITZ ASSIST',\n",
       "       'BATTERY ON A PEACE OFFICER', 'PEDESTRIAN STOP, SEND FILL',\n",
       "       'TRUANT (TABS)', 'INJURE, OBSTRUCT A BUSINESS',\n",
       "       'BOMB REMOVAL, STANDBY', 'BRANDISHING A WEAPON, GANG',\n",
       "       'SOLICITING FOR LEWD CONDUCT', 'ASSAULT AND BATTERY',\n",
       "       'SELL OR FURN ALCOHOL TO MINOR', 'CARJACKING (COMBINED EVENT)',\n",
       "       'ARMED ROBBERY, GANG RELATED', 'THEFT, GANG RELATED',\n",
       "       'COMMUNITY POLICING OFFICE', 'STRAY HORSE',\n",
       "       'W&I-UNDER JURIS OF JUV COURT',\n",
       "       'SUSPICIOUS PERSON ON RUNWAY - SJIA',\n",
       "       'VEHICLE STOP ON X, SEND FILL', 'W&I UNCONTROLLABLE JUVENILE',\n",
       "       'PETTY THEFT PRIOR CONVICTION', 'NOISY ANIMAL',\n",
       "       'DISTURBANCE, JUVENILE GANG', 'ALTERED VIN NUMBER',\n",
       "       'SALE OF TOBACCO TO MINOR', 'BAR CHECK',\n",
       "       'CURFEW TRANS/CURF CTR TO RESD'], dtype=object)"
      ]
     },
     "execution_count": 7,
     "metadata": {},
     "output_type": "execute_result"
    }
   ],
   "source": [
    "calls['CALL_TYPE'].unique()"
   ]
  },
  {
   "cell_type": "code",
   "execution_count": 8,
   "id": "4ec0bcbb",
   "metadata": {},
   "outputs": [
    {
     "data": {
      "text/plain": [
       "CALL_TYPE\n",
       "VEHICLE STOP                    247413\n",
       "DISTURBANCE                     181151\n",
       "WELFARE CHECK                   154367\n",
       "ALARM, AUDIBLE                  129428\n",
       "PARKING VIOLATION                94802\n",
       "                                 ...  \n",
       "W&I UNCONTROLLABLE JUVENILE          7\n",
       "PETTY THEFT PRIOR CONVICTION         7\n",
       "SUSPICIOUS PERSON (GANG)             5\n",
       "THEFT, GANG RELATED                  5\n",
       "NOISY ANIMAL                         4\n",
       "Name: count, Length: 200, dtype: int64"
      ]
     },
     "execution_count": 8,
     "metadata": {},
     "output_type": "execute_result"
    }
   ],
   "source": [
    "calls_22['CALL_TYPE'].value_counts()"
   ]
  },
  {
   "cell_type": "code",
   "execution_count": 9,
   "id": "cd5b6a1b",
   "metadata": {
    "scrolled": true
   },
   "outputs": [
    {
     "data": {
      "text/plain": [
       "array(['1066', '415', '911UNK', 'SUSCIR', '11300', '415FC', '1057',\n",
       "       '1095', 'WELCKEMS', 'AID', '1033A', '415M', '1070', 'WELCK',\n",
       "       '1033S', '23103', '1066W', '5150', '242', '417', '22500', '1195',\n",
       "       '1154', '415F', '20002', '484', '415A', '10851', '1182', '10851R',\n",
       "       '12025', 'FNDPRP', '602PC', '1195X', '1125', '1062', '415UNK',\n",
       "       '211A', '23152', '487', '1065JX', '1055', '594', '6F', '1181',\n",
       "       '459VEH', '415N', '314', '1183', '459', 'FDAID', '5150X', '6M',\n",
       "       '422', '415W', '211SA', '12020', '245', 'DVRO', '1124', '1065',\n",
       "       '1180', '1034', '1091', '459R', '1033', '1091AEMS', '11550',\n",
       "       '415MC', '1179', '1066P', '245EMS', '14601', '415AEMS', '246',\n",
       "       '242EMS', '1065MH', '415EMS', '594G', '1091D', '211', '1091A',\n",
       "       '1065J', '1065F', 'CIVIL', '1080', '451', '20001', '148G', '4000A',\n",
       "       '10852', 'THEFT', '415FEMS', '904', '484BOL', '148', '368',\n",
       "       '415UNKEMS', '243', '647F', '240', '22507', '488', '11377G', '647',\n",
       "       '503', '1046', '1067', '1066X', '211AEMS', '496', '245G', '597',\n",
       "       'SUSCIREMS', '602N', '1067X', '1184', '1058', '415J', '23110',\n",
       "       '273A', '273D', '1065X', '476A', '647.6', '290', '647B', '12500',\n",
       "       '11377', '23109', '1091C', '1095X', 'CPM', '484R', '241', '647C',\n",
       "       '646.9', 'CODE6F', '653M', 'CODE6M', '211PS', '3056', '12020G',\n",
       "       '470', '243D', 'CODE10', '537', '415WEMS', 'CPB', '1072', '11350',\n",
       "       '1033L', '236', '11300G', '1071', '10851G', '23153', 'CPS', '1045',\n",
       "       '242G', '518', '22350', '422.6', '273.5EMS', '502', '211SAEMS',\n",
       "       '11357', '415G', '1066G', '25662', '207', 'BURG', '602.11', '187',\n",
       "       '11350G', '1035', 'CCW', '415AG', '1033B', '1032', 'ADW', '211G',\n",
       "       '1050', '1051', '1196', 'CPC', '243.2', '1096', '601T', '602J',\n",
       "       'BOMB', '417G', '647A', '240/242', '25658.A', '215EMS', '211AG',\n",
       "       '484G', 'CPO', '1091H', '300', '1066R', '1196X', '601', '666',\n",
       "       '1091B', '415JG', '10751', '240242', '308', 'BARCK', 'CURF'],\n",
       "      dtype=object)"
      ]
     },
     "execution_count": 9,
     "metadata": {},
     "output_type": "execute_result"
    }
   ],
   "source": [
    "calls['CALLTYPE_CODE'].unique()"
   ]
  },
  {
   "cell_type": "code",
   "execution_count": 10,
   "id": "63cdb9f6",
   "metadata": {
    "scrolled": true
   },
   "outputs": [
    {
     "data": {
      "text/plain": [
       "CALLTYPE_CODE\n",
       "1195      439816\n",
       "415       370679\n",
       "WELCK     324931\n",
       "1033A     279998\n",
       "22500     199219\n",
       "           ...  \n",
       "602.11         7\n",
       "10751          7\n",
       "308            7\n",
       "BARCK          7\n",
       "CURF           7\n",
       "Name: count, Length: 212, dtype: int64"
      ]
     },
     "execution_count": 10,
     "metadata": {},
     "output_type": "execute_result"
    }
   ],
   "source": [
    "calls['CALLTYPE_CODE'].value_counts()"
   ]
  },
  {
   "cell_type": "code",
   "execution_count": 11,
   "id": "ec3563bf",
   "metadata": {},
   "outputs": [],
   "source": [
    "# let us first make column names lowercase\n",
    "calls.columns = calls.columns.str.lower()\n",
    "# calls_22.columns = calls_22.columns.str.lower()\n",
    "# calls_23.columns = calls_22.columns.str.lower()\n",
    "# calls_24.columns = calls_22.columns.str.lower()"
   ]
  },
  {
   "cell_type": "code",
   "execution_count": 12,
   "id": "e4050426",
   "metadata": {},
   "outputs": [],
   "source": [
    "# EID is a identification so let us make it an object\n",
    "calls['eid'] = calls['eid'].astype(str)\n",
    "# calls_22['eid'] = calls_22['eid'].astype(str)\n",
    "# calls_23['eid'] = calls_23['eid'].astype(str)\n",
    "# calls_24['eid'] = calls_24['eid'].astype(str)"
   ]
  },
  {
   "cell_type": "code",
   "execution_count": 13,
   "id": "191f5ae0",
   "metadata": {},
   "outputs": [],
   "source": [
    "calls = calls.drop(columns=['city','state'])\n",
    "# calls_22 = calls_22.drop(columns=['city','state'])\n",
    "# calls_23 = calls_23.drop(columns=['city','state'])\n",
    "# calls_24 = calls_24.drop(columns=['city','state'])"
   ]
  },
  {
   "cell_type": "code",
   "execution_count": 14,
   "id": "c3967f51",
   "metadata": {},
   "outputs": [],
   "source": [
    "calls[\"Timestamp\"] = pd.to_datetime(calls[\"cdts\"].str[:14], format='%Y%m%d%H%M%S', errors='coerce')\n",
    "# calls_22[\"Timestamp\"] = pd.to_datetime(calls_22[\"cdts\"].str[:14], format='%Y%m%d%H%M%S', errors='coerce')\n",
    "# calls_23[\"Timestamp\"] = pd.to_datetime(calls_23[\"cdts\"].str[:14], format='%Y%m%d%H%M%S', errors='coerce')\n",
    "# calls_24[\"Timestamp\"] = pd.to_datetime(calls_24[\"cdts\"].str[:14], format='%Y%m%d%H%M%S', errors='coerce')"
   ]
  },
  {
   "cell_type": "code",
   "execution_count": 15,
   "id": "67bc413c",
   "metadata": {},
   "outputs": [
    {
     "name": "stdout",
     "output_type": "stream",
     "text": [
      "Empty DataFrame\n",
      "Columns: [cdts, eid, start_date, call_number, priority, report_date, offense_date, offense_time, calltype_code, call_type, final_dispo_code, final_dispo, address, Timestamp]\n",
      "Index: []\n"
     ]
    }
   ],
   "source": [
    "different_dates = calls[calls[\"report_date\"] != calls[\"offense_date\"]]\n",
    "\n",
    "print(different_dates)\n",
    "\n",
    "# different_dates_22 = calls_22[calls_22[\"report_date\"] != calls_22[\"offense_date\"]]\n",
    "# different_dates_23 = calls_23[calls_23[\"report_date\"] != calls_23[\"offense_date\"]]\n",
    "# different_dates_24 = calls_24[calls_24[\"report_date\"] != calls_24[\"offense_date\"]]\n",
    "\n",
    "# print(different_dates_22)\n",
    "# print(different_dates_23)\n",
    "# print(different_dates_24)"
   ]
  },
  {
   "cell_type": "code",
   "execution_count": 17,
   "id": "ddeb3f1e",
   "metadata": {
    "scrolled": true
   },
   "outputs": [
    {
     "name": "stdout",
     "output_type": "stream",
     "text": [
      "                     cdts      eid            start_date call_number  \\\n",
      "0        20220101042916PS  8913184  1/1/2022 12:00:00 AM  P220010180   \n",
      "1        20220101043036PS  8913196  1/1/2022 12:00:00 AM  P220010191   \n",
      "2        20220101043827PS  8913252  1/1/2022 12:00:00 AM  P220010236   \n",
      "3        20220101044026PS  8913216  1/1/2022 12:00:00 AM  P220010206   \n",
      "4        20220102052501PS  8914182  1/1/2022 12:00:00 AM  P220010965   \n",
      "...                   ...      ...                   ...         ...   \n",
      "3998458  20240228143421PS  9917241  3/2/2024 12:00:00 AM  P240590531   \n",
      "3998459  20240228143423PS  9917234  3/2/2024 12:00:00 AM  P240590526   \n",
      "3998460  20240228143755PS  9917176  3/2/2024 12:00:00 AM  P240590481   \n",
      "3998461  20240228144042PS  9917220  3/2/2024 12:00:00 AM  P240590514   \n",
      "3998462  20240228144148PS  9917267  3/2/2024 12:00:00 AM  P240590551   \n",
      "\n",
      "         priority            report_date           offense_date offense_time  \\\n",
      "0               2   1/1/2022 12:00:00 AM   1/1/2022 12:00:00 AM     02:49:02   \n",
      "1               2   1/1/2022 12:00:00 AM   1/1/2022 12:00:00 AM     03:05:51   \n",
      "2               2   1/1/2022 12:00:00 AM   1/1/2022 12:00:00 AM     04:35:25   \n",
      "3               2   1/1/2022 12:00:00 AM   1/1/2022 12:00:00 AM     03:38:14   \n",
      "4               4   1/1/2022 12:00:00 AM   1/1/2022 12:00:00 AM     23:25:49   \n",
      "...           ...                    ...                    ...          ...   \n",
      "3998458         6  2/28/2024 12:00:00 AM  2/28/2024 12:00:00 AM     14:08:34   \n",
      "3998459         5  2/28/2024 12:00:00 AM  2/28/2024 12:00:00 AM     14:06:06   \n",
      "3998460         2  2/28/2024 12:00:00 AM  2/28/2024 12:00:00 AM     13:14:37   \n",
      "3998461         6  2/28/2024 12:00:00 AM  2/28/2024 12:00:00 AM     13:53:41   \n",
      "3998462         6  2/28/2024 12:00:00 AM  2/28/2024 12:00:00 AM     14:32:08   \n",
      "\n",
      "        calltype_code                 call_type final_dispo_code  \\\n",
      "0                1066         SUSPICIOUS PERSON                N   \n",
      "1                 415               DISTURBANCE                N   \n",
      "2              911UNK         UNK TYPE 911 CALL              CAN   \n",
      "3              SUSCIR  SUSPICIOUS CIRCUMSTANCES                N   \n",
      "4               11300                 NARCOTICS                A   \n",
      "...               ...                       ...              ...   \n",
      "3998458          1195              VEHICLE STOP                N   \n",
      "3998459         22500         PARKING VIOLATION                N   \n",
      "3998460           242                   BATTERY                R   \n",
      "3998461          1195              VEHICLE STOP                N   \n",
      "3998462          1195              VEHICLE STOP                D   \n",
      "\n",
      "                                          final_dispo  \\\n",
      "0            No report required; dispatch record only   \n",
      "1            No report required; dispatch record only   \n",
      "2                                            Canceled   \n",
      "3            No report required; dispatch record only   \n",
      "4                                         Arrest Made   \n",
      "...                                               ...   \n",
      "3998458      No report required; dispatch record only   \n",
      "3998459      No report required; dispatch record only   \n",
      "3998460                                  Report taken   \n",
      "3998461      No report required; dispatch record only   \n",
      "3998462  Traffic Citation Issued, Hazardous Violation   \n",
      "\n",
      "                             address           Timestamp  \n",
      "0             [800]-[900] JEANNE AV  2022-01-01 04:29:16  \n",
      "1        [1500]-[1600] SOUTHWEST EX  2022-01-01 04:30:36  \n",
      "2         [4800]-[4900] WESTMONT AV  2022-01-01 04:38:27  \n",
      "3         [3600]-[3700] GREENLEE DR  2022-01-01 04:40:26  \n",
      "4        E CAPITOL EX & EVERGREEN PL 2022-01-02 05:25:01  \n",
      "...                              ...                 ...  \n",
      "3998458    [5700]-[5800] ALMADEN RD  2024-02-28 14:34:21  \n",
      "3998459     [100]-[200] MCCREERY AV  2024-02-28 14:34:23  \n",
      "3998460       [0]-[100] N MARKET ST  2024-02-28 14:37:55  \n",
      "3998461        STORY RD & HOPKINS DR 2024-02-28 14:40:42  \n",
      "3998462                          NaN 2024-02-28 14:41:48  \n",
      "\n",
      "[3998463 rows x 14 columns]\n"
     ]
    }
   ],
   "source": [
    "different_dispo = calls[calls[\"final_dispo_code\"] != calls[\"final_dispo\"]]\n",
    "print(different_dispo)"
   ]
  },
  {
   "cell_type": "markdown",
   "id": "03037011",
   "metadata": {},
   "source": [
    "Every value for report_date and offense_date is same.\n",
    "Remove unnecessary columns: report_date, offense_date, start_date, cdts"
   ]
  },
  {
   "cell_type": "code",
   "execution_count": 18,
   "id": "1fb47801",
   "metadata": {},
   "outputs": [],
   "source": [
    "pp_calls = calls.drop(columns=['eid',\n",
    "                                     'call_number',\n",
    "                                     'report_date', \n",
    "                                     'offense_date', \n",
    "                                     'start_date', \n",
    "                                     'cdts'])\n",
    "# pp_calls_22 = calls_22.drop(columns=['eid',\n",
    "#                                      'call_number',\n",
    "#                                      'report_date', \n",
    "#                                      'offense_date', \n",
    "#                                      'start_date', \n",
    "#                                      'cdts'])\n",
    "\n",
    "# pp_calls_23 = calls_23.drop(columns=['eid',\n",
    "#                                      'call_number',\n",
    "#                                      'report_date', \n",
    "#                                      'offense_date', \n",
    "#                                      'start_date', \n",
    "#                                      'cdts'])\n",
    "\n",
    "# pp_calls_24 = calls_24.drop(columns=['eid',\n",
    "#                                      'call_number',\n",
    "#                                      'report_date', \n",
    "#                                      'offense_date', \n",
    "#                                      'start_date', \n",
    "#                                      'cdts'])"
   ]
  },
  {
   "cell_type": "code",
   "execution_count": 19,
   "id": "5084dbd6",
   "metadata": {
    "scrolled": true
   },
   "outputs": [
    {
     "name": "stdout",
     "output_type": "stream",
     "text": [
      "         priority offense_time calltype_code                 call_type  \\\n",
      "0               2     02:49:02          1066         SUSPICIOUS PERSON   \n",
      "1               2     03:05:51           415               DISTURBANCE   \n",
      "2               2     04:35:25        911UNK         UNK TYPE 911 CALL   \n",
      "3               2     03:38:14        SUSCIR  SUSPICIOUS CIRCUMSTANCES   \n",
      "4               4     23:25:49         11300                 NARCOTICS   \n",
      "...           ...          ...           ...                       ...   \n",
      "3998458         6     14:08:34          1195              VEHICLE STOP   \n",
      "3998459         5     14:06:06         22500         PARKING VIOLATION   \n",
      "3998460         2     13:14:37           242                   BATTERY   \n",
      "3998461         6     13:53:41          1195              VEHICLE STOP   \n",
      "3998462         6     14:32:08          1195              VEHICLE STOP   \n",
      "\n",
      "        final_dispo_code                                   final_dispo  \\\n",
      "0                      N      No report required; dispatch record only   \n",
      "1                      N      No report required; dispatch record only   \n",
      "2                    CAN                                      Canceled   \n",
      "3                      N      No report required; dispatch record only   \n",
      "4                      A                                   Arrest Made   \n",
      "...                  ...                                           ...   \n",
      "3998458                N      No report required; dispatch record only   \n",
      "3998459                N      No report required; dispatch record only   \n",
      "3998460                R                                  Report taken   \n",
      "3998461                N      No report required; dispatch record only   \n",
      "3998462                D  Traffic Citation Issued, Hazardous Violation   \n",
      "\n",
      "                             address           Timestamp  \n",
      "0             [800]-[900] JEANNE AV  2022-01-01 04:29:16  \n",
      "1        [1500]-[1600] SOUTHWEST EX  2022-01-01 04:30:36  \n",
      "2         [4800]-[4900] WESTMONT AV  2022-01-01 04:38:27  \n",
      "3         [3600]-[3700] GREENLEE DR  2022-01-01 04:40:26  \n",
      "4        E CAPITOL EX & EVERGREEN PL 2022-01-02 05:25:01  \n",
      "...                              ...                 ...  \n",
      "3998458    [5700]-[5800] ALMADEN RD  2024-02-28 14:34:21  \n",
      "3998459     [100]-[200] MCCREERY AV  2024-02-28 14:34:23  \n",
      "3998460       [0]-[100] N MARKET ST  2024-02-28 14:37:55  \n",
      "3998461        STORY RD & HOPKINS DR 2024-02-28 14:40:42  \n",
      "3998462                          NaN 2024-02-28 14:41:48  \n",
      "\n",
      "[3998463 rows x 8 columns]\n"
     ]
    }
   ],
   "source": [
    "print(pp_calls)"
   ]
  },
  {
   "cell_type": "code",
   "execution_count": 22,
   "id": "3f086ed9",
   "metadata": {
    "scrolled": true
   },
   "outputs": [
    {
     "name": "stdout",
     "output_type": "stream",
     "text": [
      "{'N': 'No report required; dispatch record only', 'CAN': 'Canceled', 'A': 'Arrest Made', 'GD': 'No Disposition', 'T': 'Turned over To (TOT)', 'NR': 'No Response', 'G': 'Gone on Arrival/unable to locate', 'R': 'Report taken', 'DUPNCAN': 'No Disposition', 'D': 'Traffic Citation Issued, Hazardous Violation', 'U': 'Unfounded event', 'H': 'Courtesy Service/Citizen or agency assist', 'E': 'Traffic Citation Issued, Non-Hazardous Violation', 'O': 'Supplemental report taken', 'B': 'Arrest by Warrant', 'ADV': 'No Disposition', 'F': 'Field Interview (F.I.) Completed', 'C': 'Criminal Citation', 'P': 'Prior case, follow-up activity only', 'M': 'Stranded motorist assist', 'Z': 'No Disposition', 'TOT': 'No Disposition'}\n"
     ]
    }
   ],
   "source": [
    "dispo_mapping = {}\n",
    "\n",
    "for index, row in pp_calls.iterrows():\n",
    "    dispo_code = row['final_dispo_code']\n",
    "    dispo = row['final_dispo']\n",
    "    dispo_mapping[dispo_code] = dispo\n",
    "\n",
    "print(dispo_mapping)"
   ]
  },
  {
   "cell_type": "markdown",
   "id": "f3865abe",
   "metadata": {},
   "source": [
    "'N': 'No report required; dispatch record only'\n",
    "\n",
    "'CAN': 'Canceled'\n",
    "\n",
    "'A': 'Arrest Made'\n",
    "\n",
    "'GD': 'No Disposition'\n",
    "\n",
    "'T': 'Turned over To (TOT)'\n",
    "\n",
    "'NR': 'No Response'\n",
    "\n",
    "'G': 'Gone on Arrival/unable to locate'\n",
    "\n",
    "'R': 'Report taken'\n",
    "\n",
    "'DUPNCAN': 'No Disposition'\n",
    "\n",
    "'D': 'Traffic Citation Issued, Hazardous Violation'\n",
    "\n",
    "'U': 'Unfounded event'\n",
    "\n",
    "'H': 'Courtesy Service/Citizen or agency assist'\n",
    "\n",
    "'E': 'Traffic Citation Issued, Non-Hazardous Violation'\n",
    "\n",
    "'O': 'Supplemental report taken'\n",
    "\n",
    "'B': 'Arrest by Warrant'\n",
    "\n",
    "'ADV': 'No Disposition'\n",
    "\n",
    "'F': 'Field Interview (F.I.) Completed'\n",
    "\n",
    "'C': 'Criminal Citation'\n",
    "\n",
    "'P': 'Prior case, follow-up activity only'\n",
    "\n",
    "'M': 'Stranded motorist assist'\n",
    "\n",
    "'Z': 'No Disposition'\n",
    "\n",
    "'TOT': 'No Disposition'"
   ]
  },
  {
   "cell_type": "code",
   "execution_count": 23,
   "id": "09555c56",
   "metadata": {
    "scrolled": true
   },
   "outputs": [],
   "source": [
    "pp_calls = pp_calls.drop(columns=['final_dispo'])\n",
    "# pp_calls_22 = pp_calls_22.drop(columns=['final_dispo'])\n",
    "# pp_calls_23 = pp_calls_23.drop(columns=['final_dispo'])\n",
    "# pp_calls_24 = pp_calls_24.drop(columns=['final_dispo'])"
   ]
  },
  {
   "cell_type": "code",
   "execution_count": 24,
   "id": "f1900594",
   "metadata": {
    "scrolled": true
   },
   "outputs": [
    {
     "name": "stdout",
     "output_type": "stream",
     "text": [
      "212\n",
      "{'1066': 'SUSPICIOUS PERSON', '415': 'DISTURBANCE', '911UNK': 'UNK TYPE 911 CALL', 'SUSCIR': 'SUSPICIOUS CIRCUMSTANCES', '11300': 'NARCOTICS', '415FC': 'DISTURBANCE, FIRECRACKERS', '1057': 'FIREARMS DISCHARGED', '1095': 'PEDESTRIAN STOP', 'WELCKEMS': 'WELFARE CHECK (COMBINED EVENT)', 'AID': 'PUBLIC SAFETY ASSISTANCE', '1033A': 'ALARM, AUDIBLE', '415M': 'DISTURBANCE, MUSIC', '1070': 'PROWLER', 'WELCK': 'WELFARE CHECK', '1033S': 'ALARM, SILENT', '23103': 'RECKLESS DRIVING', '1066W': 'SUSPICIOUS PERSON W/ WEAPON', '5150': 'MENTALLY DISTURBED PERSON', '242': 'BATTERY', '417': 'BRANDISHING A WEAPON', '22500': 'PARKING VIOLATION', '1195': 'VEHICLE STOP', '1154': 'SUSPICIOUS VEHICLE', '415F': 'DISTURBANCE, FAMILY', '20002': 'MISDEMEANOR HIT AND RUN', '484': 'THEFT', '415A': 'DISTURBANCE, FIGHT', '10851': 'STOLEN VEHICLE', '1182': 'VEHICLE ACCIDENT, PROPERTY DAMAGE', '10851R': 'RECOVERED STOLEN VEHICLE', '12025': 'CARRYING A CONCEALED WEAPON', 'FNDPRP': 'FOUND PROPERTY', '602PC': 'TRESPASSING', '1195X': 'VEHICLE STOP ON FEMALE', '1125': 'TRAFFIC HAZARD', '1062': 'MEET THE CITIZEN', '415UNK': 'DISTURBANCE, UNKNOWN', '211A': 'ARMED ROBBERY', '23152': 'MISDEMEANOR DUI', '487': 'GRAND THEFT', '1065JX': 'MISSING FEMALE JUVENILE', '1055': 'CORONERS CASE', '594': 'MALICIOUS MISCHIEF', '6F': 'FELONY WANT', '1181': 'VEHICLE ACCIDENT, MINOR INJURIES', '459VEH': 'VEHICLE BURGLARY', '415N': 'DISTURBANCE, NEIGHBOR', '314': 'INDECENT EXPOSURE', '1183': 'VEHICLE ACCIDENT, UNKNOWN INJURIES', '459': 'BURGLARY (460)', 'FDAID': 'FIRE DEPARTMENT REQUEST FOR PD', '5150X': 'MENTALLY DISTURBED FEMALE', '6M': 'MISDEMEANOR WANT', '422': 'CRIMINAL THREATS', '415W': 'DISTURBANCE, WEAPON', '211SA': 'STRONG ARM ROBBERY', '12020': 'ILLEGAL WEAPONS', '245': 'ASSAULT WITH DEADLY WEAPON', 'DVRO': 'VIOLATION OF PROTECTIVE ORDER', '1124': 'ABANDONED VEHICLE', '1065': 'MISSING PERSON', '1180': 'VEHICLE ACCIDENT, MAJOR INJURIES', '1034': 'OPEN DOOR', '1091': 'ANIMAL COMPLAINT', '459R': 'BURGLARY  REPORT  (460)', '1033': 'ALARM', '1091AEMS': '1091AB          - VICIOUS ANIMAL (COMBINED EVENT)', '11550': 'USE OF CONTROLLED SUBSTANCE', '415MC': 'DISTURBANCE, MOTORCYCLE', '1179': 'VEHICLE ACCIDENT, AMB DISPATCHED', '1066P': 'SUSPICIOUS PACKAGE', '245EMS': 'ASSAULT WITH DEADLY WEAPON (COMBINED EVENT)', '14601': 'DRIVING W/SUSPENDED LICENSE', '415AEMS': 'DISTURBANCE, FIGHT (COMBINED EVENT)', '246': 'SHOOTING INTO OCCP VEH OR DWELLING', '242EMS': 'BATTERY (COMBINED EVENT)', '1065MH': 'MISSING PERSON, MENTAL HANDICAP', '415EMS': 'DISTURBANCE (COMBINED EVENT)', '594G': 'MALICIOUS MISCHIEF, GANG RELATED', '1091D': 'DEAD ANIMAL', '211': 'ROBBERY', '1091A': 'VICIOUS ANIMAL', '1065J': 'MISSING JUVENILE', '1065F': 'FOUND, MISSING PERSON', 'CIVIL': 'CIVIL MATTER', '1080': 'EXPLOSION', '451': 'ARSON (447A)', '20001': 'FELONY HIT AND RUN', '148G': 'RESISTING ARREST, GANG RELATED', '4000A': 'EXPIRED REGISTRATION', '10852': 'TAMPERING WITH A VEHICLE', 'THEFT': 'THEFT', '415FEMS': 'DISTURBANCE, FAMILY (COMBINED EVENT)', '904': 'FIRE (SPECIFY TYPE)', '484BOL': 'PETTY THEFT (BROADCAST ONLY)', '148': 'RESISTING ARREST', '368': 'ELDER/DEPENDENT ADULT ABUSE', '415UNKEMS': 'DISTURBANCE, UNKNOWN (COMBINED EVENT)', '243': 'BATTERY ON AN OFFICER', '647F': 'DRUNK IN PUBLIC', '240': 'ASSAULT', '22507': 'HANDICAPPED PARKING VIOLATION', '488': 'PETTY THEFT', '11377G': 'POSSESSION OF NARCOTICS, GANG RELATED', '647': 'VAGRANT', '503': 'EMBEZZLEMENT', '1046': 'SICK PERSON', '1067': 'PERSON CALLING FOR HELP', '1066X': 'SUSPICIOUS FEMALE', '211AEMS': 'ARMED ROBBERY (COMBINED EVENT)', '496': 'RECEIVE/POSSESS STOLEN PROP', '245G': 'ASSAULT WITH DEADLY WEAPON, GANG', '597': 'CRUELTY TO ANIMALS', 'SUSCIREMS': 'SUSPICIOUS CIRCUMSTANCES (COMBINED EVENT)', '602N': 'REFUSAL TO LEAVE PROPERTY', '1067X': 'FEMALE CALLING FOR HELP', '1184': 'TRAFFIC CONTROL', '1058': 'GARBAGE COMPLAINT', '415J': 'DISTURBANCE, JUVENILE', '23110': 'THROWING SUBSTANCES AT VEHICLE', '273A': 'CHILD ABUSE', '273D': 'CHILD BEATING', '1065X': 'MISSING FEMALE', '476A': 'BAD CHECKS', '647.6': 'MOLEST/ANNOY UNDER 18YRS', '290': 'REGISTRATION OF SEX OFFENDER', '647B': 'SOLICITING FOR PROSTITUTION', '12500': 'UNLICENSED DRIVER', '11377': 'POSSESSION OF NARCOTICS', '23109': 'SPEED CONTEST', '1091C': 'INJURED ANIMAL', '1095X': 'PEDESTRIAN STOP ON FEMALE', 'CPM': 'COMMUNITY POLICING MEETING', '484R': 'THEFT OF RECYCLABLES', '241': 'ASSAULT ON AN OFFICER', '647C': 'OBSTRUCT STREETS OR SIDEWALK', '646.9': 'STALKING', 'CODE6F': 'FELONY WANT', '653M': 'OBSCENE OR HARASSING PH CALLS', 'CODE6M': 'MISDEMEANOR WANT', '211PS': 'PURSE SNATCH ROBBERY', '3056': 'PAROLE VIOLATION', '12020G': 'ILLEGAL WEAPONS, GANG RELATED', '470': 'FORGERY', '243D': 'BATTERY, SERIOUS INJURY', 'CODE10': 'BOMB THREAT', '537': 'DEFRAUDING AN INKEEPER', '415WEMS': 'DISTURBANCE, WEAPON (COMBINED EVENT)', 'CPB': 'COMMUNIT POLICING BIKE', '1072': 'PERSON STABBED', '11350': 'POSSESSION OF CONTROLLED SUBSTANCE', '1033L': 'ALARM, SVRN', '236': 'FALSE IMPRISONMENT', '11300G': 'NARCOTICS, GANG RELATED', '1071': 'PERSON SHOT', '10851G': 'STOLEN VEHICLE, GANG RELATED', '23153': 'FELONY DUI', 'CPS': 'COMMUNITY POLICING SCHOOL', '1045': 'INJURED PERSON', '242G': 'BATTERY, GANG RELATED', '518': 'EXTORTION', '22350': 'SPEEDING', '422.6': 'HATE CRIMES', '273.5EMS': 'DOMESTIC VIOLENCE  (COMBINED EVENT)', '502': 'HI-TECH CRIMES', '211SAEMS': 'STRONG ARM ROBBERY (COMBINED EVENT)', '11357': 'POSSESSION OF MARIJUANA', '415G': 'DISTURBANCE, GANG', '1066G': 'SUSPICIOUS PERSON (GANG)', '25662': 'MINOR IN POSSESSION OF ALCOHOL', '207': 'KIDNAPPING', 'BURG': 'BURGLARY (460)', '602.11': 'OBSTRUCT MEDICAL CLINIC-PERSON', '187': 'MURDER', '11350G': 'POSSESSION OF CONTROLLED SUBSTANCE, GANG RELATED', '1035': 'OPEN WINDOW', 'CCW': 'CARRYING A CONCEALED WEAPON', '415AG': 'DISTURBANCE, FIGHT GANG', '1033B': 'BREACH OF AOA', '1032': 'DROWNING', 'ADW': 'ASSAULT WITH DEADLY WEAPON', '211G': 'ROBBERY, GANG RELATED', '1050': 'TAKE A REPORT', '1051': 'INTOXICATED PERSON', '1196': 'VEHICLE STOP, SEND FILL', 'CPC': 'COMMUNITY POLICING -CITZ ASSIST', '243.2': 'BATTERY ON A PEACE OFFICER', '1096': 'PEDESTRIAN STOP, SEND FILL', '601T': 'TRUANT (TABS)', '602J': 'INJURE, OBSTRUCT A BUSINESS', 'BOMB': 'BOMB REMOVAL, STANDBY', '417G': 'BRANDISHING A WEAPON, GANG', '647A': 'SOLICITING FOR LEWD CONDUCT', '240/242': 'ASSAULT AND BATTERY', '25658.A': 'SELL OR FURN ALCOHOL TO MINOR', '215EMS': 'CARJACKING (COMBINED EVENT)', '211AG': 'ARMED ROBBERY, GANG RELATED', '484G': 'THEFT, GANG RELATED', 'CPO': 'COMMUNITY POLICING OFFICE', '1091H': 'STRAY HORSE', '300': 'W&I-UNDER JURIS OF JUV COURT', '1066R': 'SUSPICIOUS PERSON ON RUNWAY - SJIA', '1196X': 'VEHICLE STOP ON X, SEND FILL', '601': 'W&I UNCONTROLLABLE JUVENILE', '666': 'PETTY THEFT PRIOR CONVICTION', '1091B': 'NOISY ANIMAL', '415JG': 'DISTURBANCE, JUVENILE GANG', '10751': 'ALTERED VIN NUMBER', '240242': 'ASSAULT AND BATTERY', '308': 'SALE OF TOBACCO TO MINOR', 'BARCK': 'BAR CHECK', 'CURF': 'CURFEW TRANS/CURF CTR TO RESD'}\n"
     ]
    }
   ],
   "source": [
    "calltype_mapping = {}\n",
    "\n",
    "for index, row in pp_calls.iterrows():\n",
    "    calltype_code = row['calltype_code']\n",
    "    calltype = row['call_type']\n",
    "    calltype_mapping[calltype_code] = calltype\n",
    "\n",
    "print(len(calltype_mapping))\n",
    "print(calltype_mapping)"
   ]
  },
  {
   "cell_type": "code",
   "execution_count": 25,
   "id": "3ce7d9b8",
   "metadata": {},
   "outputs": [],
   "source": [
    "pp_calls = pp_calls.drop(columns=['call_type'])\n",
    "# pp_calls_22 = pp_calls_22.drop(columns=['call_type'])\n",
    "# pp_calls_23 = pp_calls_23.drop(columns=['call_type'])\n",
    "# pp_calls_24 = pp_calls_24.drop(columns=['call_type'])"
   ]
  },
  {
   "cell_type": "code",
   "execution_count": 26,
   "id": "4e9f03fa",
   "metadata": {},
   "outputs": [
    {
     "data": {
      "text/plain": [
       "array([2, 4, 6, 3, 1, 5])"
      ]
     },
     "execution_count": 26,
     "metadata": {},
     "output_type": "execute_result"
    }
   ],
   "source": [
    "pp_calls['priority'].unique()"
   ]
  },
  {
   "cell_type": "markdown",
   "id": "46cb54a9",
   "metadata": {},
   "source": [
    "# Analysis of Police Call Data"
   ]
  },
  {
   "cell_type": "markdown",
   "id": "7f9ec1fa",
   "metadata": {},
   "source": [
    "### number of calls per day"
   ]
  },
  {
   "cell_type": "code",
   "execution_count": 28,
   "id": "616bfefe",
   "metadata": {},
   "outputs": [
    {
     "data": {
      "image/png": "[encoded data removed]",
      "text/plain": [
       "<Figure size 1000x600 with 1 Axes>"
      ]
     },
     "metadata": {},
     "output_type": "display_data"
    }
   ],
   "source": [
    "date_column = pp_calls['Timestamp'].dt.date\n",
    "\n",
    "daily_count = pp_calls.groupby(pd.Grouper(key='Timestamp', freq='D')).size()\n",
    "monthly_count = daily_count.groupby(daily_count.index.to_period('M')).sum()\n",
    "\n",
    "monthly_count.plot(kind='bar', figsize=(10, 6))\n",
    "\n",
    "\n",
    "plt.title('Daily Data Count')\n",
    "plt.xlabel('Month')\n",
    "plt.ylabel('Count')\n",
    "plt.grid(True)\n",
    "\n",
    "plt.xticks(range(len(monthly_count.index)), monthly_count.index.strftime('%Y-%m'))\n",
    "\n",
    "plt.show()"
   ]
  },
  {
   "cell_type": "code",
   "execution_count": 32,
   "id": "5ea1d6bf",
   "metadata": {},
   "outputs": [
    {
     "data": {
      "image/png": "[encoded data removed]",
      "text/plain": [
       "<Figure size 1000x600 with 1 Axes>"
      ]
     },
     "metadata": {},
     "output_type": "display_data"
    }
   ],
   "source": [
    "import matplotlib.pyplot as plt\n",
    "\n",
    "# 'CALL_TYPE' 열의 빈도수 계산\n",
    "call_type_counts = pp_calls['calltype_code'].value_counts()\n",
    "\n",
    "# 히스토그램 그리기\n",
    "plt.figure(figsize=(10, 6))  # 그래프 크기 설정\n",
    "call_type_counts.plot(kind='bar', color='skyblue')  # 막대 그래프 생성\n",
    "plt.title('Call Type Histogram')  # 그래프 제목 설정\n",
    "plt.xlabel('Call Type')  # x축 레이블 설정\n",
    "plt.ylabel('Frequency')  # y축 레이블 설정\n",
    "plt.xticks(rotation=45)  # x축 레이블 회전\n",
    "plt.grid(axis='y', linestyle='--', alpha=0.7)  # 그리드 설정\n",
    "plt.tight_layout()  # 그래프 레이아웃 조정\n",
    "plt.xticks([]) \n",
    "plt.show()  # 그래프 출력"
   ]
  },
  {
   "cell_type": "code",
   "execution_count": 33,
   "id": "6a804cf7",
   "metadata": {
    "scrolled": true
   },
   "outputs": [
    {
     "data": {
      "image/png": "[encoded data removed]",
      "text/plain": [
       "<Figure size 1000x600 with 1 Axes>"
      ]
     },
     "metadata": {},
     "output_type": "display_data"
    }
   ],
   "source": [
    "import matplotlib.pyplot as plt\n",
    "\n",
    "# 상위 N개의 'CALL_TYPE' 빈도수 계산\n",
    "top_n_call_types = calls_22['CALL_TYPE'].value_counts().nlargest(10)\n",
    "\n",
    "# 히스토그램 그리기\n",
    "plt.figure(figsize=(10, 6))\n",
    "top_n_call_types.plot(kind='bar', color='skyblue')\n",
    "plt.title('Top 10 Call Types Histogram')\n",
    "plt.xlabel('Call Type')\n",
    "plt.ylabel('Frequency')\n",
    "plt.xticks(rotation=45)\n",
    "plt.grid(axis='y', linestyle='--', alpha=0.7)\n",
    "plt.tight_layout()\n",
    "plt.show()\n"
   ]
  },
  {
   "cell_type": "code",
   "execution_count": null,
   "id": "870f8707",
   "metadata": {},
   "outputs": [],
   "source": []
  }
 ],
 "metadata": {
  "kernelspec": {
   "display_name": "Python (py3_8_10)",
   "language": "python",
   "name": "py3_8_10"
  },
  "language_info": {
   "codemirror_mode": {
    "name": "ipython",
    "version": 3
   },
   "file_extension": ".py",
   "mimetype": "text/x-python",
   "name": "python",
   "nbconvert_exporter": "python",
   "pygments_lexer": "ipython3",
   "version": "3.8.10"
  }
 },
 "nbformat": 4,
 "nbformat_minor": 5
}
