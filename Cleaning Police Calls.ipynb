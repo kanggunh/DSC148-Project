{
 "cells": [
  {
   "cell_type": "code",
   "execution_count": 1,
   "id": "c5895d5b",
   "metadata": {},
   "outputs": [],
   "source": [
    "import pandas as pd\n",
    "from datetime import datetime\n",
    "from datetime import time"
   ]
  },
  {
   "cell_type": "code",
   "execution_count": 2,
   "id": "ac2b306f",
   "metadata": {},
   "outputs": [],
   "source": [
    "# reading all call records\n",
    "calls_22 = pd.read_csv(\"data/policecalls2022.csv\")\n",
    "calls_23 = pd.read_csv(\"data/policecalls2023.csv\")\n",
    "calls_24 = pd.read_csv(\"data/policecalls2024.csv\")\n",
    "\n",
    "# reading all weather records\n",
    "weather_22 = pd.read_csv(\"data/san jose weather 2022.csv\")\n",
    "weather_23 = pd.read_csv(\"data/san jose weather 2023.csv\")\n",
    "weather_24 = pd.read_csv(\"data/san jose weather 2024.csv\")"
   ]
  },
  {
   "cell_type": "markdown",
   "id": "580b44ca",
   "metadata": {},
   "source": [
    "## Data Cleaning"
   ]
  },
  {
   "cell_type": "code",
   "execution_count": 3,
   "id": "c50f4cba",
   "metadata": {},
   "outputs": [
    {
     "data": {
      "text/plain": [
       "CDTS                object\n",
       "EID                  int64\n",
       "START_DATE          object\n",
       "CALL_NUMBER         object\n",
       "PRIORITY             int64\n",
       "REPORT_DATE         object\n",
       "OFFENSE_DATE        object\n",
       "OFFENSE_TIME        object\n",
       "CALLTYPE_CODE       object\n",
       "CALL_TYPE           object\n",
       "FINAL_DISPO_CODE    object\n",
       "FINAL_DISPO         object\n",
       "ADDRESS             object\n",
       "CITY                object\n",
       "STATE               object\n",
       "dtype: object"
      ]
     },
     "execution_count": 3,
     "metadata": {},
     "output_type": "execute_result"
    }
   ],
   "source": [
    "calls_22.dtypes"
   ]
  },
  {
   "cell_type": "code",
   "execution_count": 4,
   "id": "acbf556f",
   "metadata": {},
   "outputs": [],
   "source": [
    "# let us first make column names lowercase\n",
    "calls_22.columns = calls_22.columns.str.lower()\n",
    "calls_23.columns = calls_22.columns.str.lower()\n",
    "calls_24.columns = calls_22.columns.str.lower()"
   ]
  },
  {
   "cell_type": "code",
   "execution_count": 5,
   "id": "91ec8a3d",
   "metadata": {
    "scrolled": true
   },
   "outputs": [],
   "source": [
    "# EID is a identification so let us make it an object\n",
    "calls_22['eid'] =calls_22['eid'].astype(str)\n",
    "calls_23['eid'] = calls_23['eid'].astype(str)\n",
    "calls_24['eid'] = calls_24['eid'].astype(str)"
   ]
  },
  {
   "cell_type": "code",
   "execution_count": 6,
   "id": "f709e07d",
   "metadata": {
    "scrolled": true
   },
   "outputs": [
    {
     "data": {
      "text/plain": [
       "cdts                     0\n",
       "eid                      0\n",
       "start_date               0\n",
       "call_number              0\n",
       "priority                 0\n",
       "report_date              0\n",
       "offense_date             0\n",
       "offense_time             0\n",
       "calltype_code            0\n",
       "call_type                0\n",
       "final_dispo_code         0\n",
       "final_dispo              0\n",
       "address             113995\n",
       "city                     0\n",
       "state                    0\n",
       "dtype: int64"
      ]
     },
     "execution_count": 6,
     "metadata": {},
     "output_type": "execute_result"
    }
   ],
   "source": [
    "# checking for missingness\n",
    "pd.concat([calls_22, calls_23, calls_24], ignore_index=True).isna().sum()\n",
    "\n",
    "# we are only missing addresses in call the df"
   ]
  },
  {
   "cell_type": "code",
   "execution_count": 7,
   "id": "947eb322",
   "metadata": {
    "scrolled": true
   },
   "outputs": [],
   "source": [
    "date_format = '%m/%d/%Y %I:%M:%S %p'\n",
    "\n",
    "def to_date(s):\n",
    "    # change str to datetime type\n",
    "    return datetime.strptime(s, date_format).date()"
   ]
  },
  {
   "cell_type": "code",
   "execution_count": 8,
   "id": "25a81414",
   "metadata": {},
   "outputs": [],
   "source": [
    "# change all start_date\n",
    "calls_22['start_date'] = calls_22.start_date.apply(to_date)\n",
    "calls_23['start_date'] = calls_23.start_date.apply(to_date)\n",
    "calls_24['start_date'] = calls_24.start_date.apply(to_date)"
   ]
  },
  {
   "cell_type": "code",
   "execution_count": 9,
   "id": "79a5566e",
   "metadata": {},
   "outputs": [],
   "source": [
    "# change all report_date\n",
    "calls_22['report_date'] = calls_22['report_date'].apply(to_date)\n",
    "calls_23['report_date'] = calls_23['report_date'].apply(to_date)\n",
    "calls_24['report_date'] = calls_24['report_date'].apply(to_date)"
   ]
  },
  {
   "cell_type": "code",
   "execution_count": 10,
   "id": "0948b466",
   "metadata": {},
   "outputs": [],
   "source": [
    "# change all offense_date\n",
    "calls_22['offense_date'] = calls_22['offense_date'].apply(to_date)\n",
    "calls_23['offense_date'] = calls_23['offense_date'].apply(to_date)\n",
    "calls_24['offense_date'] = calls_24['offense_date'].apply(to_date)"
   ]
  },
  {
   "cell_type": "code",
   "execution_count": 11,
   "id": "28321ef8",
   "metadata": {
    "scrolled": false
   },
   "outputs": [
    {
     "data": {
      "text/plain": [
       "0          02:49:02\n",
       "1          03:05:51\n",
       "2          04:35:25\n",
       "3          03:38:14\n",
       "4          23:25:49\n",
       "             ...   \n",
       "1945524    11:59:56\n",
       "1945525    11:58:53\n",
       "1945526    12:05:20\n",
       "1945527    11:04:02\n",
       "1945528    11:39:03\n",
       "Name: offense_time, Length: 1945529, dtype: object"
      ]
     },
     "execution_count": 11,
     "metadata": {},
     "output_type": "execute_result"
    }
   ],
   "source": [
    "calls_22['offense_time']"
   ]
  },
  {
   "cell_type": "code",
   "execution_count": 12,
   "id": "c97b092f",
   "metadata": {},
   "outputs": [],
   "source": [
    "to_time = lambda x: time(*map(int, x.split(':')))"
   ]
  },
  {
   "cell_type": "code",
   "execution_count": 13,
   "id": "7977aa41",
   "metadata": {},
   "outputs": [],
   "source": [
    "calls_22['offense_time'] = calls_22['offense_time'].apply(to_time)\n",
    "calls_23['offense_time'] = calls_23['offense_time'].apply(to_time)\n",
    "calls_24['offense_time'] = calls_24['offense_time'].apply(to_time)"
   ]
  },
  {
   "cell_type": "code",
   "execution_count": 14,
   "id": "3a591426",
   "metadata": {},
   "outputs": [],
   "source": [
    "# dropping city and state as they are all San Jose, CA\n",
    "calls_22 = calls_22.drop(columns=['city','state'])\n",
    "calls_23 = calls_23.drop(columns=['city','state'])\n",
    "calls_24 = calls_24.drop(columns=['city','state'])"
   ]
  },
  {
   "cell_type": "code",
   "execution_count": 16,
   "id": "c963376a",
   "metadata": {},
   "outputs": [
    {
     "data": {
      "text/plain": [
       "1945529"
      ]
     },
     "execution_count": 16,
     "metadata": {},
     "output_type": "execute_result"
    }
   ],
   "source": [
    "calls_22.shape[0]"
   ]
  },
  {
   "cell_type": "code",
   "execution_count": 17,
   "id": "321a854f",
   "metadata": {},
   "outputs": [
    {
     "data": {
      "text/plain": [
       "292604"
      ]
     },
     "execution_count": 17,
     "metadata": {},
     "output_type": "execute_result"
    }
   ],
   "source": [
    "calls_22['cdts'].nunique()"
   ]
  },
  {
   "cell_type": "code",
   "execution_count": 18,
   "id": "0000bfd1",
   "metadata": {},
   "outputs": [
    {
     "data": {
      "text/plain": [
       "287243"
      ]
     },
     "execution_count": 18,
     "metadata": {},
     "output_type": "execute_result"
    }
   ],
   "source": [
    "calls_22['eid'].nunique()"
   ]
  },
  {
   "cell_type": "code",
   "execution_count": 20,
   "id": "48474872",
   "metadata": {},
   "outputs": [
    {
     "data": {
      "text/plain": [
       "287596"
      ]
     },
     "execution_count": 20,
     "metadata": {},
     "output_type": "execute_result"
    }
   ],
   "source": [
    "calls_22['call_number'].nunique()"
   ]
  },
  {
   "cell_type": "code",
   "execution_count": 21,
   "id": "c507c35f",
   "metadata": {
    "scrolled": false
   },
   "outputs": [
    {
     "data": {
      "text/plain": [
       "1195     247413\n",
       "415      181151\n",
       "WELCK    154367\n",
       "1033A    129428\n",
       "22500     94802\n",
       "          ...  \n",
       "1066R         7\n",
       "1196X         7\n",
       "484G          5\n",
       "1066G         5\n",
       "1091B         4\n",
       "Name: calltype_code, Length: 206, dtype: int64"
      ]
     },
     "execution_count": 21,
     "metadata": {},
     "output_type": "execute_result"
    }
   ],
   "source": [
    "calls_22['calltype_code'].value_counts()"
   ]
  },
  {
   "cell_type": "code",
   "execution_count": 25,
   "id": "7a8d0ffd",
   "metadata": {},
   "outputs": [],
   "source": [
    "call_types = calls_22['call_type'].value_counts()"
   ]
  },
  {
   "cell_type": "code",
   "execution_count": 35,
   "id": "aadadfd1",
   "metadata": {},
   "outputs": [
    {
     "data": {
      "text/plain": [
       "VEHICLE STOP                247413\n",
       "DISTURBANCE                 181151\n",
       "WELFARE CHECK               154367\n",
       "ALARM, AUDIBLE              129428\n",
       "PARKING VIOLATION            94802\n",
       "                             ...  \n",
       "BATTERY (COMBINED EVENT)      2975\n",
       "SUSPICIOUS FEMALE             2947\n",
       "STRONG ARM ROBBERY            2688\n",
       "EXPIRED REGISTRATION          2645\n",
       "MISSING FEMALE JUVENILE       2524\n",
       "Name: call_type, Length: 71, dtype: int64"
      ]
     },
     "execution_count": 35,
     "metadata": {},
     "output_type": "execute_result"
    }
   ],
   "source": [
    "call_types[call_types > 2500]"
   ]
  },
  {
   "cell_type": "code",
   "execution_count": null,
   "id": "02317e97",
   "metadata": {},
   "outputs": [],
   "source": []
  }
 ],
 "metadata": {
  "kernelspec": {
   "display_name": "Python 3 (ipykernel)",
   "language": "python",
   "name": "python3"
  },
  "language_info": {
   "codemirror_mode": {
    "name": "ipython",
    "version": 3
   },
   "file_extension": ".py",
   "mimetype": "text/x-python",
   "name": "python",
   "nbconvert_exporter": "python",
   "pygments_lexer": "ipython3",
   "version": "3.9.7"
  }
 },
 "nbformat": 4,
 "nbformat_minor": 5
}
