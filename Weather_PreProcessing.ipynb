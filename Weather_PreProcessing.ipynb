{
 "cells": [
  {
   "cell_type": "markdown",
   "id": "00744750",
   "metadata": {},
   "source": [
    "# Weather Data: Pre-processing"
   ]
  },
  {
   "cell_type": "code",
   "execution_count": 1,
   "id": "ecf9c893",
   "metadata": {},
   "outputs": [],
   "source": [
    "import pandas as pd\n",
    "from datetime import datetime\n",
    "from datetime import time"
   ]
  },
  {
   "cell_type": "code",
   "execution_count": 2,
   "id": "4d2b66a9",
   "metadata": {},
   "outputs": [],
   "source": [
    "# reading all weather records\n",
    "weather_22 = pd.read_csv(\"data/san jose weather 2022.csv\")\n",
    "weather_23 = pd.read_csv(\"data/san jose weather 2023.csv\")\n",
    "weather_24 = pd.read_csv(\"data/san jose weather 2024.csv\")"
   ]
  },
  {
   "cell_type": "code",
   "execution_count": 7,
   "id": "e62f9701",
   "metadata": {},
   "outputs": [],
   "source": [
    "weather = pd.concat([weather_22, weather_23, weather_24], ignore_index=True)"
   ]
  },
  {
   "cell_type": "code",
   "execution_count": 9,
   "id": "ab8f65d1",
   "metadata": {
    "scrolled": true
   },
   "outputs": [],
   "source": [
    "weather = weather.drop(labels=791)\n",
    "weather = weather.drop(labels=790)"
   ]
  },
  {
   "cell_type": "code",
   "execution_count": 10,
   "id": "b863f4a9",
   "metadata": {},
   "outputs": [
    {
     "data": {
      "text/plain": [
       "name                 object\n",
       "datetime             object\n",
       "tempmax             float64\n",
       "tempmin             float64\n",
       "temp                float64\n",
       "feelslikemax        float64\n",
       "feelslikemin        float64\n",
       "feelslike           float64\n",
       "dew                 float64\n",
       "humidity            float64\n",
       "precip              float64\n",
       "precipprob            int64\n",
       "precipcover         float64\n",
       "preciptype           object\n",
       "snow                  int64\n",
       "snowdepth             int64\n",
       "windgust            float64\n",
       "windspeed           float64\n",
       "winddir             float64\n",
       "sealevelpressure    float64\n",
       "cloudcover          float64\n",
       "visibility          float64\n",
       "solarradiation      float64\n",
       "solarenergy         float64\n",
       "uvindex               int64\n",
       "severerisk          float64\n",
       "sunrise              object\n",
       "sunset               object\n",
       "moonphase           float64\n",
       "conditions           object\n",
       "description          object\n",
       "icon                 object\n",
       "stations             object\n",
       "dtype: object"
      ]
     },
     "execution_count": 10,
     "metadata": {},
     "output_type": "execute_result"
    }
   ],
   "source": [
    "weather.dtypes"
   ]
  },
  {
   "cell_type": "markdown",
   "id": "92a61036",
   "metadata": {},
   "source": [
    "### Columns\n",
    "1. name - city name\n",
    "2. datetime - date\n",
    "3. tempmax - predicted actual max temperature of the day          \n",
    "4. tempmin - predicted actual min temperature of the day\n",
    "5. temp - actual measured temperature         \n",
    "6. feelslikemax - max temperature that humans feel\n",
    "7. feelslikemin - min temperature that humans feel\n",
    "8. feelslike - temperature that humans feel\n",
    "9. dew - the temperature point at which the air can hold no more wate       \n",
    "10. humidity - percentage describing humidity of the day    \n",
    "11. precip - unknown metrics of measurement of deciamls            \n",
    "12. precipprob - likelihood of precipitation           \n",
    "13. precipcover - percent of area it covered     \n",
    "14. preciptype - rain or snow or hail    \n",
    "15. snow - checking if it snowed           \n",
    "16. snowdepth - depth of snow\n",
    "17. windgust - sudden increase or burst of wind \n",
    "18. windspeed - speed of the wind      \n",
    "19. winddir - direction of the wind    \n",
    "20. sealevelpressure - unknown units of sealevel pressure\n",
    "21. cloudcover - percerage of cloudcover\n",
    "22. visibility - visibility in miles   \n",
    "23. solarradiation - measured in watts per square meter \n",
    "24. solarenergy - measured in kWh/m2/day\n",
    "25. uvindex - UV Index predicts the ultraviolet radiation levels on a 1-11+ scale\n",
    "26. severerisk - some kind of risk represented by NaN or 10\n",
    "27. sunrise - time of sunrise\n",
    "28. sunset - time of sunset \n",
    "29. moonphase - moonphase represented by decimals from 0 to 1\n",
    "30. conditions - categorical condition about the sky\n",
    "31. description - more detailed condition of the day\n",
    "32. icon - icon probably for some weather app or forecast\n",
    "33. stations - location of the station       "
   ]
  },
  {
   "cell_type": "markdown",
   "id": "3a90be10",
   "metadata": {},
   "source": [
    "**note: note sure what 'precip' column is**"
   ]
  },
  {
   "cell_type": "markdown",
   "id": "75ba7c14",
   "metadata": {},
   "source": [
    "## 1. Handling Missing Data"
   ]
  },
  {
   "cell_type": "code",
   "execution_count": 11,
   "id": "6fd999b3",
   "metadata": {
    "scrolled": true
   },
   "outputs": [
    {
     "data": {
      "text/plain": [
       "name                  0\n",
       "datetime              0\n",
       "tempmax               0\n",
       "tempmin               0\n",
       "temp                  0\n",
       "feelslikemax          0\n",
       "feelslikemin          0\n",
       "feelslike             0\n",
       "dew                   0\n",
       "humidity              0\n",
       "precip                0\n",
       "precipprob            0\n",
       "precipcover           0\n",
       "preciptype          602\n",
       "snow                  0\n",
       "snowdepth             0\n",
       "windgust              0\n",
       "windspeed             0\n",
       "winddir               0\n",
       "sealevelpressure      0\n",
       "cloudcover            0\n",
       "visibility            0\n",
       "solarradiation        0\n",
       "solarenergy           0\n",
       "uvindex               0\n",
       "severerisk            9\n",
       "sunrise               0\n",
       "sunset                0\n",
       "moonphase             0\n",
       "conditions            0\n",
       "description           0\n",
       "icon                  0\n",
       "stations              0\n",
       "dtype: int64"
      ]
     },
     "execution_count": 11,
     "metadata": {},
     "output_type": "execute_result"
    }
   ],
   "source": [
    "weather.isna().sum()"
   ]
  },
  {
   "cell_type": "code",
   "execution_count": 12,
   "id": "49c3eca9",
   "metadata": {},
   "outputs": [
    {
     "data": {
      "text/plain": [
       "array([nan, 'rain'], dtype=object)"
      ]
     },
     "execution_count": 12,
     "metadata": {},
     "output_type": "execute_result"
    }
   ],
   "source": [
    "weather.preciptype.unique()"
   ]
  },
  {
   "cell_type": "code",
   "execution_count": 13,
   "id": "810e42ea",
   "metadata": {},
   "outputs": [],
   "source": [
    "# It seems like all the days with no precipitation were filled in NaN values. \n",
    "# Let us fill it with string \"no precip\"\n",
    "\n",
    "weather['preciptype'] = weather['preciptype'].fillna('no precip')"
   ]
  },
  {
   "cell_type": "code",
   "execution_count": 14,
   "id": "c499a730",
   "metadata": {},
   "outputs": [
    {
     "data": {
      "text/plain": [
       "array([nan, 10.])"
      ]
     },
     "execution_count": 14,
     "metadata": {},
     "output_type": "execute_result"
    }
   ],
   "source": [
    "# checking what kind of risk measurement this is\n",
    "weather.severerisk.unique()"
   ]
  },
  {
   "cell_type": "code",
   "execution_count": 16,
   "id": "35b89d92",
   "metadata": {
    "scrolled": true
   },
   "outputs": [
    {
     "data": {
      "text/html": [
       "<div>\n",
       "<style scoped>\n",
       "    .dataframe tbody tr th:only-of-type {\n",
       "        vertical-align: middle;\n",
       "    }\n",
       "\n",
       "    .dataframe tbody tr th {\n",
       "        vertical-align: top;\n",
       "    }\n",
       "\n",
       "    .dataframe thead th {\n",
       "        text-align: right;\n",
       "    }\n",
       "</style>\n",
       "<table border=\"1\" class=\"dataframe\">\n",
       "  <thead>\n",
       "    <tr style=\"text-align: right;\">\n",
       "      <th></th>\n",
       "      <th>name</th>\n",
       "      <th>datetime</th>\n",
       "      <th>tempmax</th>\n",
       "      <th>tempmin</th>\n",
       "      <th>temp</th>\n",
       "      <th>feelslikemax</th>\n",
       "      <th>feelslikemin</th>\n",
       "      <th>feelslike</th>\n",
       "      <th>dew</th>\n",
       "      <th>humidity</th>\n",
       "      <th>...</th>\n",
       "      <th>solarenergy</th>\n",
       "      <th>uvindex</th>\n",
       "      <th>severerisk</th>\n",
       "      <th>sunrise</th>\n",
       "      <th>sunset</th>\n",
       "      <th>moonphase</th>\n",
       "      <th>conditions</th>\n",
       "      <th>description</th>\n",
       "      <th>icon</th>\n",
       "      <th>stations</th>\n",
       "    </tr>\n",
       "  </thead>\n",
       "  <tbody>\n",
       "    <tr>\n",
       "      <th>0</th>\n",
       "      <td>san jose</td>\n",
       "      <td>2022-01-01</td>\n",
       "      <td>55.0</td>\n",
       "      <td>35.1</td>\n",
       "      <td>43.3</td>\n",
       "      <td>55.0</td>\n",
       "      <td>32.5</td>\n",
       "      <td>42.2</td>\n",
       "      <td>31.5</td>\n",
       "      <td>66.8</td>\n",
       "      <td>...</td>\n",
       "      <td>12.1</td>\n",
       "      <td>6</td>\n",
       "      <td>NaN</td>\n",
       "      <td>2022-01-01T07:21:56</td>\n",
       "      <td>2022-01-01T17:00:46</td>\n",
       "      <td>0.97</td>\n",
       "      <td>Partially cloudy</td>\n",
       "      <td>Partly cloudy throughout the day.</td>\n",
       "      <td>partly-cloudy-day</td>\n",
       "      <td>72585093228,KSJC,KLVK,E6873,72492723285,724945...</td>\n",
       "    </tr>\n",
       "    <tr>\n",
       "      <th>1</th>\n",
       "      <td>san jose</td>\n",
       "      <td>2022-01-02</td>\n",
       "      <td>59.9</td>\n",
       "      <td>33.1</td>\n",
       "      <td>44.0</td>\n",
       "      <td>59.9</td>\n",
       "      <td>29.9</td>\n",
       "      <td>43.1</td>\n",
       "      <td>33.6</td>\n",
       "      <td>68.5</td>\n",
       "      <td>...</td>\n",
       "      <td>12.3</td>\n",
       "      <td>6</td>\n",
       "      <td>NaN</td>\n",
       "      <td>2022-01-02T07:22:04</td>\n",
       "      <td>2022-01-02T17:01:35</td>\n",
       "      <td>0.00</td>\n",
       "      <td>Partially cloudy</td>\n",
       "      <td>Partly cloudy throughout the day.</td>\n",
       "      <td>partly-cloudy-day</td>\n",
       "      <td>72585093228,KSJC,KLVK,E6873,72492723285,724945...</td>\n",
       "    </tr>\n",
       "    <tr>\n",
       "      <th>2</th>\n",
       "      <td>san jose</td>\n",
       "      <td>2022-01-03</td>\n",
       "      <td>56.0</td>\n",
       "      <td>44.0</td>\n",
       "      <td>50.6</td>\n",
       "      <td>56.0</td>\n",
       "      <td>39.5</td>\n",
       "      <td>49.1</td>\n",
       "      <td>43.4</td>\n",
       "      <td>76.5</td>\n",
       "      <td>...</td>\n",
       "      <td>5.4</td>\n",
       "      <td>3</td>\n",
       "      <td>NaN</td>\n",
       "      <td>2022-01-03T07:22:10</td>\n",
       "      <td>2022-01-03T17:02:24</td>\n",
       "      <td>0.03</td>\n",
       "      <td>Overcast</td>\n",
       "      <td>Cloudy skies throughout the day.</td>\n",
       "      <td>cloudy</td>\n",
       "      <td>72585093228,KSJC,KLVK,E6873,72492723285,724945...</td>\n",
       "    </tr>\n",
       "    <tr>\n",
       "      <th>3</th>\n",
       "      <td>san jose</td>\n",
       "      <td>2022-01-04</td>\n",
       "      <td>61.0</td>\n",
       "      <td>50.0</td>\n",
       "      <td>54.6</td>\n",
       "      <td>61.0</td>\n",
       "      <td>50.0</td>\n",
       "      <td>54.6</td>\n",
       "      <td>49.6</td>\n",
       "      <td>83.5</td>\n",
       "      <td>...</td>\n",
       "      <td>7.4</td>\n",
       "      <td>5</td>\n",
       "      <td>NaN</td>\n",
       "      <td>2022-01-04T07:22:14</td>\n",
       "      <td>2022-01-04T17:03:16</td>\n",
       "      <td>0.07</td>\n",
       "      <td>Rain, Partially cloudy</td>\n",
       "      <td>Partly cloudy throughout the day with early mo...</td>\n",
       "      <td>rain</td>\n",
       "      <td>72585093228,KSJC,KLVK,E6873,72492723285,724945...</td>\n",
       "    </tr>\n",
       "    <tr>\n",
       "      <th>4</th>\n",
       "      <td>san jose</td>\n",
       "      <td>2022-01-05</td>\n",
       "      <td>62.8</td>\n",
       "      <td>51.1</td>\n",
       "      <td>55.6</td>\n",
       "      <td>62.8</td>\n",
       "      <td>51.1</td>\n",
       "      <td>55.6</td>\n",
       "      <td>50.7</td>\n",
       "      <td>84.1</td>\n",
       "      <td>...</td>\n",
       "      <td>11.1</td>\n",
       "      <td>6</td>\n",
       "      <td>NaN</td>\n",
       "      <td>2022-01-05T07:22:16</td>\n",
       "      <td>2022-01-05T17:04:08</td>\n",
       "      <td>0.10</td>\n",
       "      <td>Partially cloudy</td>\n",
       "      <td>Partly cloudy throughout the day.</td>\n",
       "      <td>partly-cloudy-day</td>\n",
       "      <td>72585093228,KSJC,KLVK,E6873,72492723285,724945...</td>\n",
       "    </tr>\n",
       "    <tr>\n",
       "      <th>5</th>\n",
       "      <td>san jose</td>\n",
       "      <td>2022-01-06</td>\n",
       "      <td>60.0</td>\n",
       "      <td>53.0</td>\n",
       "      <td>55.8</td>\n",
       "      <td>60.0</td>\n",
       "      <td>53.0</td>\n",
       "      <td>55.8</td>\n",
       "      <td>51.4</td>\n",
       "      <td>85.4</td>\n",
       "      <td>...</td>\n",
       "      <td>6.5</td>\n",
       "      <td>4</td>\n",
       "      <td>NaN</td>\n",
       "      <td>2022-01-06T07:22:16</td>\n",
       "      <td>2022-01-06T17:05:01</td>\n",
       "      <td>0.13</td>\n",
       "      <td>Overcast</td>\n",
       "      <td>Cloudy skies throughout the day.</td>\n",
       "      <td>cloudy</td>\n",
       "      <td>72585093228,KSJC,KLVK,E6873,72492723285,724945...</td>\n",
       "    </tr>\n",
       "    <tr>\n",
       "      <th>6</th>\n",
       "      <td>san jose</td>\n",
       "      <td>2022-01-07</td>\n",
       "      <td>59.0</td>\n",
       "      <td>50.0</td>\n",
       "      <td>53.7</td>\n",
       "      <td>59.0</td>\n",
       "      <td>48.4</td>\n",
       "      <td>53.6</td>\n",
       "      <td>48.3</td>\n",
       "      <td>82.3</td>\n",
       "      <td>...</td>\n",
       "      <td>5.3</td>\n",
       "      <td>3</td>\n",
       "      <td>NaN</td>\n",
       "      <td>2022-01-07T07:22:13</td>\n",
       "      <td>2022-01-07T17:05:56</td>\n",
       "      <td>0.17</td>\n",
       "      <td>Overcast</td>\n",
       "      <td>Cloudy skies throughout the day.</td>\n",
       "      <td>cloudy</td>\n",
       "      <td>72585093228,KSJC,KLVK,E6873,72492723285,724945...</td>\n",
       "    </tr>\n",
       "    <tr>\n",
       "      <th>7</th>\n",
       "      <td>san jose</td>\n",
       "      <td>2022-01-08</td>\n",
       "      <td>57.7</td>\n",
       "      <td>44.0</td>\n",
       "      <td>51.1</td>\n",
       "      <td>57.7</td>\n",
       "      <td>41.4</td>\n",
       "      <td>50.5</td>\n",
       "      <td>45.1</td>\n",
       "      <td>80.2</td>\n",
       "      <td>...</td>\n",
       "      <td>7.8</td>\n",
       "      <td>6</td>\n",
       "      <td>NaN</td>\n",
       "      <td>2022-01-08T07:22:09</td>\n",
       "      <td>2022-01-08T17:06:52</td>\n",
       "      <td>0.20</td>\n",
       "      <td>Partially cloudy</td>\n",
       "      <td>Partly cloudy throughout the day.</td>\n",
       "      <td>partly-cloudy-day</td>\n",
       "      <td>72585093228,KSJC,KLVK,E6873,72492723285,724945...</td>\n",
       "    </tr>\n",
       "    <tr>\n",
       "      <th>8</th>\n",
       "      <td>san jose</td>\n",
       "      <td>2022-01-09</td>\n",
       "      <td>61.9</td>\n",
       "      <td>38.9</td>\n",
       "      <td>48.6</td>\n",
       "      <td>61.9</td>\n",
       "      <td>35.5</td>\n",
       "      <td>48.2</td>\n",
       "      <td>41.0</td>\n",
       "      <td>76.6</td>\n",
       "      <td>...</td>\n",
       "      <td>12.5</td>\n",
       "      <td>6</td>\n",
       "      <td>NaN</td>\n",
       "      <td>2022-01-09T07:22:03</td>\n",
       "      <td>2022-01-09T17:07:48</td>\n",
       "      <td>0.25</td>\n",
       "      <td>Partially cloudy</td>\n",
       "      <td>Becoming cloudy in the afternoon.</td>\n",
       "      <td>partly-cloudy-day</td>\n",
       "      <td>72585093228,KSJC,KLVK,E6873,72492723285,724945...</td>\n",
       "    </tr>\n",
       "  </tbody>\n",
       "</table>\n",
       "<p>9 rows × 33 columns</p>\n",
       "</div>"
      ],
      "text/plain": [
       "       name    datetime  tempmax  tempmin  temp  feelslikemax  feelslikemin  \\\n",
       "0  san jose  2022-01-01     55.0     35.1  43.3          55.0          32.5   \n",
       "1  san jose  2022-01-02     59.9     33.1  44.0          59.9          29.9   \n",
       "2  san jose  2022-01-03     56.0     44.0  50.6          56.0          39.5   \n",
       "3  san jose  2022-01-04     61.0     50.0  54.6          61.0          50.0   \n",
       "4  san jose  2022-01-05     62.8     51.1  55.6          62.8          51.1   \n",
       "5  san jose  2022-01-06     60.0     53.0  55.8          60.0          53.0   \n",
       "6  san jose  2022-01-07     59.0     50.0  53.7          59.0          48.4   \n",
       "7  san jose  2022-01-08     57.7     44.0  51.1          57.7          41.4   \n",
       "8  san jose  2022-01-09     61.9     38.9  48.6          61.9          35.5   \n",
       "\n",
       "   feelslike   dew  humidity  ...  solarenergy  uvindex  severerisk  \\\n",
       "0       42.2  31.5      66.8  ...         12.1        6         NaN   \n",
       "1       43.1  33.6      68.5  ...         12.3        6         NaN   \n",
       "2       49.1  43.4      76.5  ...          5.4        3         NaN   \n",
       "3       54.6  49.6      83.5  ...          7.4        5         NaN   \n",
       "4       55.6  50.7      84.1  ...         11.1        6         NaN   \n",
       "5       55.8  51.4      85.4  ...          6.5        4         NaN   \n",
       "6       53.6  48.3      82.3  ...          5.3        3         NaN   \n",
       "7       50.5  45.1      80.2  ...          7.8        6         NaN   \n",
       "8       48.2  41.0      76.6  ...         12.5        6         NaN   \n",
       "\n",
       "               sunrise               sunset  moonphase  \\\n",
       "0  2022-01-01T07:21:56  2022-01-01T17:00:46       0.97   \n",
       "1  2022-01-02T07:22:04  2022-01-02T17:01:35       0.00   \n",
       "2  2022-01-03T07:22:10  2022-01-03T17:02:24       0.03   \n",
       "3  2022-01-04T07:22:14  2022-01-04T17:03:16       0.07   \n",
       "4  2022-01-05T07:22:16  2022-01-05T17:04:08       0.10   \n",
       "5  2022-01-06T07:22:16  2022-01-06T17:05:01       0.13   \n",
       "6  2022-01-07T07:22:13  2022-01-07T17:05:56       0.17   \n",
       "7  2022-01-08T07:22:09  2022-01-08T17:06:52       0.20   \n",
       "8  2022-01-09T07:22:03  2022-01-09T17:07:48       0.25   \n",
       "\n",
       "               conditions                                        description  \\\n",
       "0        Partially cloudy                  Partly cloudy throughout the day.   \n",
       "1        Partially cloudy                  Partly cloudy throughout the day.   \n",
       "2                Overcast                   Cloudy skies throughout the day.   \n",
       "3  Rain, Partially cloudy  Partly cloudy throughout the day with early mo...   \n",
       "4        Partially cloudy                  Partly cloudy throughout the day.   \n",
       "5                Overcast                   Cloudy skies throughout the day.   \n",
       "6                Overcast                   Cloudy skies throughout the day.   \n",
       "7        Partially cloudy                  Partly cloudy throughout the day.   \n",
       "8        Partially cloudy                  Becoming cloudy in the afternoon.   \n",
       "\n",
       "                icon                                           stations  \n",
       "0  partly-cloudy-day  72585093228,KSJC,KLVK,E6873,72492723285,724945...  \n",
       "1  partly-cloudy-day  72585093228,KSJC,KLVK,E6873,72492723285,724945...  \n",
       "2             cloudy  72585093228,KSJC,KLVK,E6873,72492723285,724945...  \n",
       "3               rain  72585093228,KSJC,KLVK,E6873,72492723285,724945...  \n",
       "4  partly-cloudy-day  72585093228,KSJC,KLVK,E6873,72492723285,724945...  \n",
       "5             cloudy  72585093228,KSJC,KLVK,E6873,72492723285,724945...  \n",
       "6             cloudy  72585093228,KSJC,KLVK,E6873,72492723285,724945...  \n",
       "7  partly-cloudy-day  72585093228,KSJC,KLVK,E6873,72492723285,724945...  \n",
       "8  partly-cloudy-day  72585093228,KSJC,KLVK,E6873,72492723285,724945...  \n",
       "\n",
       "[9 rows x 33 columns]"
      ]
     },
     "execution_count": 16,
     "metadata": {},
     "output_type": "execute_result"
    }
   ],
   "source": [
    "# lets check where the severerisk data is missing\n",
    "weather[pd.isna(weather.severerisk)]"
   ]
  },
  {
   "cell_type": "markdown",
   "id": "b907aa79",
   "metadata": {},
   "source": [
    "Seem like the first 9 days of 2022 are missing the values whereas the others are just simply filled with 10. This column maybe irrelavent information, therefore we are going to drop it the next few lines of code."
   ]
  },
  {
   "cell_type": "markdown",
   "id": "15b94a41",
   "metadata": {},
   "source": [
    "## 2. Fixing Datatype"
   ]
  },
  {
   "cell_type": "code",
   "execution_count": 17,
   "id": "5e9c0cf5",
   "metadata": {
    "scrolled": true
   },
   "outputs": [
    {
     "data": {
      "text/plain": [
       "name                 object\n",
       "datetime             object\n",
       "tempmax             float64\n",
       "tempmin             float64\n",
       "temp                float64\n",
       "feelslikemax        float64\n",
       "feelslikemin        float64\n",
       "feelslike           float64\n",
       "dew                 float64\n",
       "humidity            float64\n",
       "precip              float64\n",
       "precipprob            int64\n",
       "precipcover         float64\n",
       "preciptype           object\n",
       "snow                  int64\n",
       "snowdepth             int64\n",
       "windgust            float64\n",
       "windspeed           float64\n",
       "winddir             float64\n",
       "sealevelpressure    float64\n",
       "cloudcover          float64\n",
       "visibility          float64\n",
       "solarradiation      float64\n",
       "solarenergy         float64\n",
       "uvindex               int64\n",
       "severerisk          float64\n",
       "sunrise              object\n",
       "sunset               object\n",
       "moonphase           float64\n",
       "conditions           object\n",
       "description          object\n",
       "icon                 object\n",
       "stations             object\n",
       "dtype: object"
      ]
     },
     "execution_count": 17,
     "metadata": {},
     "output_type": "execute_result"
    }
   ],
   "source": [
    "weather.dtypes"
   ]
  },
  {
   "cell_type": "code",
   "execution_count": 18,
   "id": "1c287976",
   "metadata": {},
   "outputs": [],
   "source": [
    "def fix_datatype(df):\n",
    "    \n",
    "    \n",
    "    # datetime column into datetime object\n",
    "    df['datetime'] = pd.to_datetime(df['datetime'])\n",
    "    \n",
    "    \n",
    "    # get time for sunrise and sunset\n",
    "    def extract_time(time_string):\n",
    "        # we only need time since datetime column already has date\n",
    "        time_string = time_string.split('T')[1]\n",
    "        return datetime.strptime(time_string, \"%H:%M:%S\").time()\n",
    "    \n",
    "    df['sunrise'] = df['sunrise'].apply(lambda x: extract_time(x))\n",
    "    df['sunset'] = df['sunset'].apply(lambda x: extract_time(x))\n",
    "    \n",
    "    \n",
    "    # changing percentage to decimal\n",
    "    df['humidity'] = df['humidity'] / 100\n",
    "    df['precipcover'] = df['precipcover'] / 100\n",
    "    df['cloudcover'] = df['cloudcover'] / 100\n",
    "    \n",
    "    \n",
    "    # change into boolean\n",
    "    df['precipprob'] = df['precipprob'].apply(lambda x: True if x == 100 else False)"
   ]
  },
  {
   "cell_type": "code",
   "execution_count": 20,
   "id": "e55f68ae",
   "metadata": {},
   "outputs": [],
   "source": [
    "# fixing all datatypes\n",
    "fix_datatype(weather)"
   ]
  },
  {
   "cell_type": "markdown",
   "id": "51e7ed32",
   "metadata": {},
   "source": [
    "## 3. Dropping Columns "
   ]
  },
  {
   "cell_type": "code",
   "execution_count": 22,
   "id": "8ecdb3cc",
   "metadata": {
    "scrolled": true
   },
   "outputs": [
    {
     "data": {
      "text/html": [
       "<div>\n",
       "<style scoped>\n",
       "    .dataframe tbody tr th:only-of-type {\n",
       "        vertical-align: middle;\n",
       "    }\n",
       "\n",
       "    .dataframe tbody tr th {\n",
       "        vertical-align: top;\n",
       "    }\n",
       "\n",
       "    .dataframe thead th {\n",
       "        text-align: right;\n",
       "    }\n",
       "</style>\n",
       "<table border=\"1\" class=\"dataframe\">\n",
       "  <thead>\n",
       "    <tr style=\"text-align: right;\">\n",
       "      <th></th>\n",
       "      <th>datetime</th>\n",
       "      <th>tempmax</th>\n",
       "      <th>tempmin</th>\n",
       "      <th>temp</th>\n",
       "      <th>feelslikemax</th>\n",
       "      <th>feelslikemin</th>\n",
       "      <th>feelslike</th>\n",
       "      <th>humidity</th>\n",
       "      <th>precip</th>\n",
       "      <th>precipcover</th>\n",
       "      <th>...</th>\n",
       "      <th>windspeed</th>\n",
       "      <th>winddir</th>\n",
       "      <th>cloudcover</th>\n",
       "      <th>visibility</th>\n",
       "      <th>uvindex</th>\n",
       "      <th>sunrise</th>\n",
       "      <th>sunset</th>\n",
       "      <th>moonphase</th>\n",
       "      <th>conditions</th>\n",
       "      <th>description</th>\n",
       "    </tr>\n",
       "  </thead>\n",
       "  <tbody>\n",
       "    <tr>\n",
       "      <th>0</th>\n",
       "      <td>2022-01-01</td>\n",
       "      <td>55.0</td>\n",
       "      <td>35.1</td>\n",
       "      <td>43.3</td>\n",
       "      <td>55.0</td>\n",
       "      <td>32.5</td>\n",
       "      <td>42.2</td>\n",
       "      <td>0.668</td>\n",
       "      <td>0.000</td>\n",
       "      <td>0.0000</td>\n",
       "      <td>...</td>\n",
       "      <td>5.9</td>\n",
       "      <td>179.7</td>\n",
       "      <td>0.212</td>\n",
       "      <td>8.6</td>\n",
       "      <td>6</td>\n",
       "      <td>07:21:56</td>\n",
       "      <td>17:00:46</td>\n",
       "      <td>0.97</td>\n",
       "      <td>Partially cloudy</td>\n",
       "      <td>Partly cloudy throughout the day.</td>\n",
       "    </tr>\n",
       "    <tr>\n",
       "      <th>1</th>\n",
       "      <td>2022-01-02</td>\n",
       "      <td>59.9</td>\n",
       "      <td>33.1</td>\n",
       "      <td>44.0</td>\n",
       "      <td>59.9</td>\n",
       "      <td>29.9</td>\n",
       "      <td>43.1</td>\n",
       "      <td>0.685</td>\n",
       "      <td>0.000</td>\n",
       "      <td>0.0000</td>\n",
       "      <td>...</td>\n",
       "      <td>9.1</td>\n",
       "      <td>157.0</td>\n",
       "      <td>0.254</td>\n",
       "      <td>9.9</td>\n",
       "      <td>6</td>\n",
       "      <td>07:22:04</td>\n",
       "      <td>17:01:35</td>\n",
       "      <td>0.00</td>\n",
       "      <td>Partially cloudy</td>\n",
       "      <td>Partly cloudy throughout the day.</td>\n",
       "    </tr>\n",
       "    <tr>\n",
       "      <th>2</th>\n",
       "      <td>2022-01-03</td>\n",
       "      <td>56.0</td>\n",
       "      <td>44.0</td>\n",
       "      <td>50.6</td>\n",
       "      <td>56.0</td>\n",
       "      <td>39.5</td>\n",
       "      <td>49.1</td>\n",
       "      <td>0.765</td>\n",
       "      <td>0.000</td>\n",
       "      <td>0.0000</td>\n",
       "      <td>...</td>\n",
       "      <td>13.7</td>\n",
       "      <td>143.2</td>\n",
       "      <td>0.919</td>\n",
       "      <td>9.9</td>\n",
       "      <td>3</td>\n",
       "      <td>07:22:10</td>\n",
       "      <td>17:02:24</td>\n",
       "      <td>0.03</td>\n",
       "      <td>Overcast</td>\n",
       "      <td>Cloudy skies throughout the day.</td>\n",
       "    </tr>\n",
       "    <tr>\n",
       "      <th>3</th>\n",
       "      <td>2022-01-04</td>\n",
       "      <td>61.0</td>\n",
       "      <td>50.0</td>\n",
       "      <td>54.6</td>\n",
       "      <td>61.0</td>\n",
       "      <td>50.0</td>\n",
       "      <td>54.6</td>\n",
       "      <td>0.835</td>\n",
       "      <td>0.001</td>\n",
       "      <td>0.0417</td>\n",
       "      <td>...</td>\n",
       "      <td>10.2</td>\n",
       "      <td>189.1</td>\n",
       "      <td>0.833</td>\n",
       "      <td>9.9</td>\n",
       "      <td>5</td>\n",
       "      <td>07:22:14</td>\n",
       "      <td>17:03:16</td>\n",
       "      <td>0.07</td>\n",
       "      <td>Rain, Partially cloudy</td>\n",
       "      <td>Partly cloudy throughout the day with early mo...</td>\n",
       "    </tr>\n",
       "    <tr>\n",
       "      <th>4</th>\n",
       "      <td>2022-01-05</td>\n",
       "      <td>62.8</td>\n",
       "      <td>51.1</td>\n",
       "      <td>55.6</td>\n",
       "      <td>62.8</td>\n",
       "      <td>51.1</td>\n",
       "      <td>55.6</td>\n",
       "      <td>0.841</td>\n",
       "      <td>0.000</td>\n",
       "      <td>0.0000</td>\n",
       "      <td>...</td>\n",
       "      <td>11.2</td>\n",
       "      <td>327.2</td>\n",
       "      <td>0.861</td>\n",
       "      <td>9.8</td>\n",
       "      <td>6</td>\n",
       "      <td>07:22:16</td>\n",
       "      <td>17:04:08</td>\n",
       "      <td>0.10</td>\n",
       "      <td>Partially cloudy</td>\n",
       "      <td>Partly cloudy throughout the day.</td>\n",
       "    </tr>\n",
       "  </tbody>\n",
       "</table>\n",
       "<p>5 rows × 24 columns</p>\n",
       "</div>"
      ],
      "text/plain": [
       "    datetime  tempmax  tempmin  temp  feelslikemax  feelslikemin  feelslike  \\\n",
       "0 2022-01-01     55.0     35.1  43.3          55.0          32.5       42.2   \n",
       "1 2022-01-02     59.9     33.1  44.0          59.9          29.9       43.1   \n",
       "2 2022-01-03     56.0     44.0  50.6          56.0          39.5       49.1   \n",
       "3 2022-01-04     61.0     50.0  54.6          61.0          50.0       54.6   \n",
       "4 2022-01-05     62.8     51.1  55.6          62.8          51.1       55.6   \n",
       "\n",
       "   humidity  precip  precipcover  ... windspeed  winddir  cloudcover  \\\n",
       "0     0.668   0.000       0.0000  ...       5.9    179.7       0.212   \n",
       "1     0.685   0.000       0.0000  ...       9.1    157.0       0.254   \n",
       "2     0.765   0.000       0.0000  ...      13.7    143.2       0.919   \n",
       "3     0.835   0.001       0.0417  ...      10.2    189.1       0.833   \n",
       "4     0.841   0.000       0.0000  ...      11.2    327.2       0.861   \n",
       "\n",
       "   visibility  uvindex   sunrise    sunset  moonphase              conditions  \\\n",
       "0         8.6        6  07:21:56  17:00:46       0.97        Partially cloudy   \n",
       "1         9.9        6  07:22:04  17:01:35       0.00        Partially cloudy   \n",
       "2         9.9        3  07:22:10  17:02:24       0.03                Overcast   \n",
       "3         9.9        5  07:22:14  17:03:16       0.07  Rain, Partially cloudy   \n",
       "4         9.8        6  07:22:16  17:04:08       0.10        Partially cloudy   \n",
       "\n",
       "                                         description  \n",
       "0                  Partly cloudy throughout the day.  \n",
       "1                  Partly cloudy throughout the day.  \n",
       "2                   Cloudy skies throughout the day.  \n",
       "3  Partly cloudy throughout the day with early mo...  \n",
       "4                  Partly cloudy throughout the day.  \n",
       "\n",
       "[5 rows x 24 columns]"
      ]
     },
     "execution_count": 22,
     "metadata": {},
     "output_type": "execute_result"
    }
   ],
   "source": [
    "# dropping columns that have only one value\n",
    "# dropping column that doesn't quite help our prediction\n",
    "\n",
    "useless_columns = ['name', 'dew', 'precipprob', 'solarradiation', 'solarenergy', \n",
    "                   'severerisk', 'sealevelpressure', 'icon', 'stations']\n",
    "\n",
    "weather = weather.drop(columns=useless_columns)\n",
    "weather.head()"
   ]
  },
  {
   "cell_type": "markdown",
   "id": "992f3fe4",
   "metadata": {},
   "source": [
    "## Final Cleaned Data"
   ]
  },
  {
   "cell_type": "code",
   "execution_count": 26,
   "id": "afd493d6",
   "metadata": {
    "scrolled": true
   },
   "outputs": [],
   "source": [
    "pp_weather = weather"
   ]
  },
  {
   "cell_type": "code",
   "execution_count": 27,
   "id": "222c352f",
   "metadata": {},
   "outputs": [],
   "source": [
    "pp_weather.index = weather['datetime']"
   ]
  },
  {
   "cell_type": "code",
   "execution_count": 29,
   "id": "c6a13f62",
   "metadata": {},
   "outputs": [],
   "source": [
    "drop_columns = ['datetime', 'description', 'conditions', 'preciptype']\n",
    "weather = weather.drop(columns=drop_columns)"
   ]
  },
  {
   "cell_type": "code",
   "execution_count": 30,
   "id": "661366f2",
   "metadata": {},
   "outputs": [],
   "source": [
    "weather['sunrise'] = pd.to_datetime(weather['sunrise'], format='%H:%M:%S')#.dt.time\n",
    "weather['sunset'] = pd.to_datetime(weather['sunset'], format='%H:%M:%S')#.dt.time"
   ]
  },
  {
   "cell_type": "code",
   "execution_count": 31,
   "id": "f7ec2bd8",
   "metadata": {},
   "outputs": [],
   "source": [
    "weather['time_difference'] = (pd.Series(weather['sunset']) - pd.Series(weather['sunrise'])).dt.total_seconds() / 3600"
   ]
  },
  {
   "cell_type": "code",
   "execution_count": 32,
   "id": "56d07622",
   "metadata": {},
   "outputs": [
    {
     "data": {
      "text/plain": [
       "datetime\n",
       "2022-01-01     9.647222\n",
       "2022-01-02     9.658611\n",
       "2022-01-03     9.670556\n",
       "2022-01-04     9.683889\n",
       "2022-01-05     9.697778\n",
       "                ...    \n",
       "2024-02-25    11.212500\n",
       "2024-02-26    11.251389\n",
       "2024-02-27    11.290556\n",
       "2024-02-28    11.329722\n",
       "2024-02-29    11.368889\n",
       "Name: time_difference, Length: 790, dtype: float64"
      ]
     },
     "execution_count": 32,
     "metadata": {},
     "output_type": "execute_result"
    }
   ],
   "source": [
    "weather['time_difference']"
   ]
  },
  {
   "cell_type": "code",
   "execution_count": 33,
   "id": "96284fab",
   "metadata": {},
   "outputs": [],
   "source": [
    "pp_weather = weather\n",
    "pp_weather = pp_weather.drop(columns=['sunrise', 'sunset'])"
   ]
  },
  {
   "cell_type": "code",
   "execution_count": 34,
   "id": "82e14289",
   "metadata": {},
   "outputs": [],
   "source": [
    "pp_weather = pp_weather.drop(columns=['snow', 'snowdepth'])"
   ]
  },
  {
   "cell_type": "code",
   "execution_count": 35,
   "id": "7584a145",
   "metadata": {},
   "outputs": [
    {
     "data": {
      "text/plain": [
       "tempmax            float64\n",
       "tempmin            float64\n",
       "temp               float64\n",
       "feelslikemax       float64\n",
       "feelslikemin       float64\n",
       "feelslike          float64\n",
       "humidity           float64\n",
       "precip             float64\n",
       "precipcover        float64\n",
       "windgust           float64\n",
       "windspeed          float64\n",
       "winddir            float64\n",
       "cloudcover         float64\n",
       "visibility         float64\n",
       "uvindex              int64\n",
       "moonphase          float64\n",
       "time_difference    float64\n",
       "dtype: object"
      ]
     },
     "execution_count": 35,
     "metadata": {},
     "output_type": "execute_result"
    }
   ],
   "source": [
    "pp_weather.dtypes"
   ]
  },
  {
   "cell_type": "code",
   "execution_count": null,
   "id": "16ecaaac",
   "metadata": {},
   "outputs": [],
   "source": []
  },
  {
   "cell_type": "markdown",
   "id": "e423f69f",
   "metadata": {},
   "source": [
    "### Possible Ideas for Feature Engineering:\n",
    "- Can binzarize all wind related features at a threshold of our choice\n",
    "- Can find the range of temp (max - min)\n",
    "- Can bucket some of these columns into broader categories\n",
    "- Can tokenize the description column to have a smaller number of unique category"
   ]
  },
  {
   "cell_type": "markdown",
   "id": "d3ee4339",
   "metadata": {},
   "source": [
    "## Additional Columns Worth Noting:"
   ]
  },
  {
   "cell_type": "code",
   "execution_count": 45,
   "id": "c3c6db71",
   "metadata": {
    "scrolled": true
   },
   "outputs": [
    {
     "data": {
      "image/png": "[encoded data removed]",
      "text/plain": [
       "<Figure size 864x576 with 4 Axes>"
      ]
     },
     "metadata": {
      "needs_background": "light"
     },
     "output_type": "display_data"
    }
   ],
   "source": [
    "import matplotlib.pyplot as plt\n",
    "from matplotlib.dates import DateFormatter, MonthLocator\n",
    "\n",
    "# 2x2 subplot\n",
    "fig, axs = plt.subplots(2, 2, figsize=(12, 8))\n",
    "\n",
    "axs[0, 0].plot(pp_weather['time_difference'], color='blue')\n",
    "axs[0, 0].set_title('Time Difference')\n",
    "axs[0, 0].xaxis.set_major_formatter(DateFormatter('%m/%Y'))\n",
    "axs[0, 0].xaxis.set_major_locator(MonthLocator(interval=5))  # 눈금 간격을 2개월로 설정\n",
    "\n",
    "axs[0, 1].plot(pp_weather['temp'], color='green')\n",
    "axs[0, 1].set_title('Temperature')\n",
    "axs[0, 1].xaxis.set_major_formatter(DateFormatter('%m/%Y'))\n",
    "axs[0, 1].xaxis.set_major_locator(MonthLocator(interval=5))\n",
    "\n",
    "axs[1, 0].plot(pp_weather['feelslike'], color='orange')\n",
    "axs[1, 0].set_title('Feels Like')\n",
    "axs[1, 0].xaxis.set_major_formatter(DateFormatter('%m/%Y'))\n",
    "axs[1, 0].xaxis.set_major_locator(MonthLocator(interval=5))\n",
    "\n",
    "axs[1, 1].plot(pp_weather['precip'], color='red')\n",
    "axs[1, 1].set_title('Precipitation')\n",
    "axs[1, 1].xaxis.set_major_formatter(DateFormatter('%m/%Y'))\n",
    "axs[1, 1].xaxis.set_major_locator(MonthLocator(interval=5))\n",
    "\n",
    "plt.tight_layout()\n",
    "\n",
    "plt.show()\n"
   ]
  },
  {
   "cell_type": "code",
   "execution_count": null,
   "id": "f8aee0b6",
   "metadata": {},
   "outputs": [],
   "source": []
  }
 ],
 "metadata": {
  "kernelspec": {
   "display_name": "Python 3 (ipykernel)",
   "language": "python",
   "name": "python3"
  },
  "language_info": {
   "codemirror_mode": {
    "name": "ipython",
    "version": 3
   },
   "file_extension": ".py",
   "mimetype": "text/x-python",
   "name": "python",
   "nbconvert_exporter": "python",
   "pygments_lexer": "ipython3",
   "version": "3.9.7"
  }
 },
 "nbformat": 4,
 "nbformat_minor": 5
}
